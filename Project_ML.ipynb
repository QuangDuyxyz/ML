{
  "nbformat": 4,
  "nbformat_minor": 0,
  "metadata": {
    "colab": {
      "provenance": [],
      "gpuType": "T4",
      "mount_file_id": "10mgkIL7klHGEsjkHkSkGdKDRhbt_Ux03",
      "authorship_tag": "ABX9TyPYtAb+iNGBtZDyMBYOOP/J",
      "include_colab_link": true
    },
    "kernelspec": {
      "name": "python3",
      "display_name": "Python 3"
    },
    "language_info": {
      "name": "python"
    },
    "accelerator": "GPU",
    "gpuClass": "standard"
  },
  "cells": [
    {
      "cell_type": "markdown",
      "metadata": {
        "id": "view-in-github",
        "colab_type": "text"
      },
      "source": [
        "<a href=\"https://colab.research.google.com/github/QuangDuyxyz/ML/blob/main/Project_ML.ipynb\" target=\"_parent\"><img src=\"https://colab.research.google.com/assets/colab-badge.svg\" alt=\"Open In Colab\"/></a>"
      ]
    },
    {
      "cell_type": "code",
      "source": [
        "!pip install underthesea"
      ],
      "metadata": {
        "id": "j_yxAo-W4tXH",
        "colab": {
          "base_uri": "https://localhost:8080/"
        },
        "outputId": "2f1430df-7758-49fd-95a5-47e82417ffeb"
      },
      "execution_count": 1,
      "outputs": [
        {
          "output_type": "stream",
          "name": "stdout",
          "text": [
            "Looking in indexes: https://pypi.org/simple, https://us-python.pkg.dev/colab-wheels/public/simple/\n",
            "Collecting underthesea\n",
            "  Downloading underthesea-6.2.0-py3-none-any.whl (19.2 MB)\n",
            "\u001b[2K     \u001b[90m━━━━━━━━━━━━━━━━━━━━━━━━━━━━━━━━━━━━━━━━\u001b[0m \u001b[32m19.2/19.2 MB\u001b[0m \u001b[31m78.9 MB/s\u001b[0m eta \u001b[36m0:00:00\u001b[0m\n",
            "\u001b[?25hRequirement already satisfied: Click>=6.0 in /usr/local/lib/python3.10/dist-packages (from underthesea) (8.1.3)\n",
            "Collecting python-crfsuite>=0.9.6 (from underthesea)\n",
            "  Downloading python_crfsuite-0.9.9-cp310-cp310-manylinux_2_17_x86_64.manylinux2014_x86_64.whl (993 kB)\n",
            "\u001b[2K     \u001b[90m━━━━━━━━━━━━━━━━━━━━━━━━━━━━━━━━━━━━━━\u001b[0m \u001b[32m993.5/993.5 kB\u001b[0m \u001b[31m73.2 MB/s\u001b[0m eta \u001b[36m0:00:00\u001b[0m\n",
            "\u001b[?25hRequirement already satisfied: nltk in /usr/local/lib/python3.10/dist-packages (from underthesea) (3.8.1)\n",
            "Requirement already satisfied: tqdm in /usr/local/lib/python3.10/dist-packages (from underthesea) (4.65.0)\n",
            "Requirement already satisfied: requests in /usr/local/lib/python3.10/dist-packages (from underthesea) (2.27.1)\n",
            "Requirement already satisfied: joblib in /usr/local/lib/python3.10/dist-packages (from underthesea) (1.2.0)\n",
            "Requirement already satisfied: scikit-learn in /usr/local/lib/python3.10/dist-packages (from underthesea) (1.2.2)\n",
            "Requirement already satisfied: PyYAML in /usr/local/lib/python3.10/dist-packages (from underthesea) (6.0)\n",
            "Collecting underthesea-core==1.0.0 (from underthesea)\n",
            "  Downloading underthesea_core-1.0.0-cp310-cp310-manylinux2010_x86_64.whl (599 kB)\n",
            "\u001b[2K     \u001b[90m━━━━━━━━━━━━━━━━━━━━━━━━━━━━━━━━━━━━━━\u001b[0m \u001b[32m599.6/599.6 kB\u001b[0m \u001b[31m64.5 MB/s\u001b[0m eta \u001b[36m0:00:00\u001b[0m\n",
            "\u001b[?25hRequirement already satisfied: regex>=2021.8.3 in /usr/local/lib/python3.10/dist-packages (from nltk->underthesea) (2022.10.31)\n",
            "Requirement already satisfied: urllib3<1.27,>=1.21.1 in /usr/local/lib/python3.10/dist-packages (from requests->underthesea) (1.26.15)\n",
            "Requirement already satisfied: certifi>=2017.4.17 in /usr/local/lib/python3.10/dist-packages (from requests->underthesea) (2022.12.7)\n",
            "Requirement already satisfied: charset-normalizer~=2.0.0 in /usr/local/lib/python3.10/dist-packages (from requests->underthesea) (2.0.12)\n",
            "Requirement already satisfied: idna<4,>=2.5 in /usr/local/lib/python3.10/dist-packages (from requests->underthesea) (3.4)\n",
            "Requirement already satisfied: numpy>=1.17.3 in /usr/local/lib/python3.10/dist-packages (from scikit-learn->underthesea) (1.22.4)\n",
            "Requirement already satisfied: scipy>=1.3.2 in /usr/local/lib/python3.10/dist-packages (from scikit-learn->underthesea) (1.10.1)\n",
            "Requirement already satisfied: threadpoolctl>=2.0.0 in /usr/local/lib/python3.10/dist-packages (from scikit-learn->underthesea) (3.1.0)\n",
            "Installing collected packages: underthesea-core, python-crfsuite, underthesea\n",
            "Successfully installed python-crfsuite-0.9.9 underthesea-6.2.0 underthesea-core-1.0.0\n"
          ]
        }
      ]
    },
    {
      "cell_type": "code",
      "source": [
        "import pandas as pd\n",
        "import numpy as np\n",
        "import re\n",
        "import underthesea\n",
        "from sklearn.model_selection import train_test_split\n",
        "from sklearn.metrics import accuracy_score\n",
        "from sklearn.metrics import f1_score\n",
        "from sklearn.svm import SVC\n",
        "from sklearn.pipeline import Pipeline\n",
        "from sklearn.feature_extraction.text import TfidfVectorizer"
      ],
      "metadata": {
        "id": "Kh5NlJvM0lt_"
      },
      "execution_count": 2,
      "outputs": []
    },
    {
      "cell_type": "markdown",
      "source": [
        "# Tiến hành đọc dữ liệu từ file sử dụng thư viện pandas"
      ],
      "metadata": {
        "id": "AdbXkwYTh_GY"
      }
    },
    {
      "cell_type": "code",
      "source": [
        "data = pd.read_csv('/content/drive/MyDrive/project_ML/ML_final.csv')\n",
        "data.head()"
      ],
      "metadata": {
        "colab": {
          "base_uri": "https://localhost:8080/",
          "height": 206
        },
        "id": "0eVL8qyx0lv_",
        "outputId": "05cde276-40bc-4ae9-ee4a-5e55d0c11a29"
      },
      "execution_count": 3,
      "outputs": [
        {
          "output_type": "execute_result",
          "data": {
            "text/plain": [
              "                                            Feedback  Label\n",
              "0  Mình mua máy được 4 ngày rồi, nói chung ok, gi...      1\n",
              "1  Em mới mua máy hôm qua , máy bắt sóng 4g qua y...     -1\n",
              "2  k có hóa đơn và thẻ bảo hành k biết hỏng thì t...      0\n",
              "3  máy ngoại hình đẹp phím mềm,nghe gọi to rõ,âm ...      0\n",
              "4  Tại sao pin 5000 mà mình lướt facebook với chơ...     -1"
            ],
            "text/html": [
              "\n",
              "  <div id=\"df-6baf6fcf-8e7d-4e05-bac5-fc6c6ebf1a64\">\n",
              "    <div class=\"colab-df-container\">\n",
              "      <div>\n",
              "<style scoped>\n",
              "    .dataframe tbody tr th:only-of-type {\n",
              "        vertical-align: middle;\n",
              "    }\n",
              "\n",
              "    .dataframe tbody tr th {\n",
              "        vertical-align: top;\n",
              "    }\n",
              "\n",
              "    .dataframe thead th {\n",
              "        text-align: right;\n",
              "    }\n",
              "</style>\n",
              "<table border=\"1\" class=\"dataframe\">\n",
              "  <thead>\n",
              "    <tr style=\"text-align: right;\">\n",
              "      <th></th>\n",
              "      <th>Feedback</th>\n",
              "      <th>Label</th>\n",
              "    </tr>\n",
              "  </thead>\n",
              "  <tbody>\n",
              "    <tr>\n",
              "      <th>0</th>\n",
              "      <td>Mình mua máy được 4 ngày rồi, nói chung ok, gi...</td>\n",
              "      <td>1</td>\n",
              "    </tr>\n",
              "    <tr>\n",
              "      <th>1</th>\n",
              "      <td>Em mới mua máy hôm qua , máy bắt sóng 4g qua y...</td>\n",
              "      <td>-1</td>\n",
              "    </tr>\n",
              "    <tr>\n",
              "      <th>2</th>\n",
              "      <td>k có hóa đơn và thẻ bảo hành k biết hỏng thì t...</td>\n",
              "      <td>0</td>\n",
              "    </tr>\n",
              "    <tr>\n",
              "      <th>3</th>\n",
              "      <td>máy ngoại hình đẹp phím mềm,nghe gọi to rõ,âm ...</td>\n",
              "      <td>0</td>\n",
              "    </tr>\n",
              "    <tr>\n",
              "      <th>4</th>\n",
              "      <td>Tại sao pin 5000 mà mình lướt facebook với chơ...</td>\n",
              "      <td>-1</td>\n",
              "    </tr>\n",
              "  </tbody>\n",
              "</table>\n",
              "</div>\n",
              "      <button class=\"colab-df-convert\" onclick=\"convertToInteractive('df-6baf6fcf-8e7d-4e05-bac5-fc6c6ebf1a64')\"\n",
              "              title=\"Convert this dataframe to an interactive table.\"\n",
              "              style=\"display:none;\">\n",
              "        \n",
              "  <svg xmlns=\"http://www.w3.org/2000/svg\" height=\"24px\"viewBox=\"0 0 24 24\"\n",
              "       width=\"24px\">\n",
              "    <path d=\"M0 0h24v24H0V0z\" fill=\"none\"/>\n",
              "    <path d=\"M18.56 5.44l.94 2.06.94-2.06 2.06-.94-2.06-.94-.94-2.06-.94 2.06-2.06.94zm-11 1L8.5 8.5l.94-2.06 2.06-.94-2.06-.94L8.5 2.5l-.94 2.06-2.06.94zm10 10l.94 2.06.94-2.06 2.06-.94-2.06-.94-.94-2.06-.94 2.06-2.06.94z\"/><path d=\"M17.41 7.96l-1.37-1.37c-.4-.4-.92-.59-1.43-.59-.52 0-1.04.2-1.43.59L10.3 9.45l-7.72 7.72c-.78.78-.78 2.05 0 2.83L4 21.41c.39.39.9.59 1.41.59.51 0 1.02-.2 1.41-.59l7.78-7.78 2.81-2.81c.8-.78.8-2.07 0-2.86zM5.41 20L4 18.59l7.72-7.72 1.47 1.35L5.41 20z\"/>\n",
              "  </svg>\n",
              "      </button>\n",
              "      \n",
              "  <style>\n",
              "    .colab-df-container {\n",
              "      display:flex;\n",
              "      flex-wrap:wrap;\n",
              "      gap: 12px;\n",
              "    }\n",
              "\n",
              "    .colab-df-convert {\n",
              "      background-color: #E8F0FE;\n",
              "      border: none;\n",
              "      border-radius: 50%;\n",
              "      cursor: pointer;\n",
              "      display: none;\n",
              "      fill: #1967D2;\n",
              "      height: 32px;\n",
              "      padding: 0 0 0 0;\n",
              "      width: 32px;\n",
              "    }\n",
              "\n",
              "    .colab-df-convert:hover {\n",
              "      background-color: #E2EBFA;\n",
              "      box-shadow: 0px 1px 2px rgba(60, 64, 67, 0.3), 0px 1px 3px 1px rgba(60, 64, 67, 0.15);\n",
              "      fill: #174EA6;\n",
              "    }\n",
              "\n",
              "    [theme=dark] .colab-df-convert {\n",
              "      background-color: #3B4455;\n",
              "      fill: #D2E3FC;\n",
              "    }\n",
              "\n",
              "    [theme=dark] .colab-df-convert:hover {\n",
              "      background-color: #434B5C;\n",
              "      box-shadow: 0px 1px 3px 1px rgba(0, 0, 0, 0.15);\n",
              "      filter: drop-shadow(0px 1px 2px rgba(0, 0, 0, 0.3));\n",
              "      fill: #FFFFFF;\n",
              "    }\n",
              "  </style>\n",
              "\n",
              "      <script>\n",
              "        const buttonEl =\n",
              "          document.querySelector('#df-6baf6fcf-8e7d-4e05-bac5-fc6c6ebf1a64 button.colab-df-convert');\n",
              "        buttonEl.style.display =\n",
              "          google.colab.kernel.accessAllowed ? 'block' : 'none';\n",
              "\n",
              "        async function convertToInteractive(key) {\n",
              "          const element = document.querySelector('#df-6baf6fcf-8e7d-4e05-bac5-fc6c6ebf1a64');\n",
              "          const dataTable =\n",
              "            await google.colab.kernel.invokeFunction('convertToInteractive',\n",
              "                                                     [key], {});\n",
              "          if (!dataTable) return;\n",
              "\n",
              "          const docLinkHtml = 'Like what you see? Visit the ' +\n",
              "            '<a target=\"_blank\" href=https://colab.research.google.com/notebooks/data_table.ipynb>data table notebook</a>'\n",
              "            + ' to learn more about interactive tables.';\n",
              "          element.innerHTML = '';\n",
              "          dataTable['output_type'] = 'display_data';\n",
              "          await google.colab.output.renderOutput(dataTable, element);\n",
              "          const docLink = document.createElement('div');\n",
              "          docLink.innerHTML = docLinkHtml;\n",
              "          element.appendChild(docLink);\n",
              "        }\n",
              "      </script>\n",
              "    </div>\n",
              "  </div>\n",
              "  "
            ]
          },
          "metadata": {},
          "execution_count": 3
        }
      ]
    },
    {
      "cell_type": "code",
      "source": [
        "data.shape"
      ],
      "metadata": {
        "colab": {
          "base_uri": "https://localhost:8080/"
        },
        "id": "ZpTTDUAk0bcz",
        "outputId": "04bb9cab-255c-482d-a8d2-5d33ab72cb3a"
      },
      "execution_count": 4,
      "outputs": [
        {
          "output_type": "execute_result",
          "data": {
            "text/plain": [
              "(1999, 2)"
            ]
          },
          "metadata": {},
          "execution_count": 4
        }
      ]
    },
    {
      "cell_type": "code",
      "source": [
        "import seaborn as sns\n",
        "sns.set_style(\"dark\")\n",
        "sns.countplot(x=\"Label\", data=data)"
      ],
      "metadata": {
        "id": "LLhU7zlS0bfk",
        "colab": {
          "base_uri": "https://localhost:8080/",
          "height": 466
        },
        "outputId": "252e1d4f-34e6-4bac-d5ba-675837618a6e"
      },
      "execution_count": 5,
      "outputs": [
        {
          "output_type": "execute_result",
          "data": {
            "text/plain": [
              "<Axes: xlabel='Label', ylabel='count'>"
            ]
          },
          "metadata": {},
          "execution_count": 5
        },
        {
          "output_type": "display_data",
          "data": {
            "text/plain": [
              "<Figure size 640x480 with 1 Axes>"
            ],
            "image/png": "[encoded data removed]"
          },
          "metadata": {}
        }
      ]
    },
    {
      "cell_type": "code",
      "source": [
        "X_data = data['Feedback']\n",
        "Y_data = data['Label']"
      ],
      "metadata": {
        "id": "cdBvIANF0biK"
      },
      "execution_count": 6,
      "outputs": []
    },
    {
      "cell_type": "code",
      "source": [
        "print(X_data)"
      ],
      "metadata": {
        "id": "x__Wvkat0bj2",
        "colab": {
          "base_uri": "https://localhost:8080/"
        },
        "outputId": "122e99d3-b636-4b28-c528-d75224eb3e64"
      },
      "execution_count": 7,
      "outputs": [
        {
          "output_type": "stream",
          "name": "stdout",
          "text": [
            "0       Mình mua máy được 4 ngày rồi, nói chung ok, gi...\n",
            "1       Em mới mua máy hôm qua , máy bắt sóng 4g qua y...\n",
            "2       k có hóa đơn và thẻ bảo hành k biết hỏng thì t...\n",
            "3       máy ngoại hình đẹp phím mềm,nghe gọi to rõ,âm ...\n",
            "4       Tại sao pin 5000 mà mình lướt facebook với chơ...\n",
            "                              ...                        \n",
            "1994    Pin em nó quá khủng, lại sạc được cho smartpho...\n",
            "1995    Rất tốt trong tầm giá Mình đả test qua nhiều d...\n",
            "1996    Mình dùng từ tháng 1 tới giờ vẫn rất ngon Ko c...\n",
            "1997    Mình mua đc 3 ngày thì cảm thấy máy rất OK chư...\n",
            "1998    Máy lỗi đủ thứ Fb coi là văng hoài nói chung l...\n",
            "Name: Feedback, Length: 1999, dtype: object\n"
          ]
        }
      ]
    },
    {
      "cell_type": "markdown",
      "source": [
        "# Tiền xử lý dữ liệu\n",
        "> Tiền xử lý dữ liệu, ở đây chúng ta tiến hành các bước như sau:\n",
        ">>Đưa các ký tự về chữ thường.\n",
        "\n",
        "  >>Loại bỏ các số\n",
        "\n",
        "  >>Loại bỏ các dấu câu\n",
        "  \n",
        ">>Loại bỏ khoảng trắng thừa\n",
        "\n",
        ">>Bỏ bớt các chữ cái giống nhau liên tiếp (Vd: Quaaaa -> qua )\n",
        "\n",
        ">>Tách từ tiếng việt sử dụng thư viện underthesea có sẵn\n",
        "\n",
        ">>Chuẩn hóa dữ liệu\n",
        "\n",
        "\n",
        "\n",
        "\n",
        "\n",
        "\n",
        "\n",
        "\n",
        "\n",
        "\n",
        "\n",
        "\n",
        "\n",
        "\n",
        "\n",
        "\n",
        "\n",
        "\n",
        "\n",
        "\n",
        "\n",
        "\n",
        "\n",
        "\n",
        "\n"
      ],
      "metadata": {
        "id": "amSTOKGdVSoD"
      }
    },
    {
      "cell_type": "code",
      "source": [
        "#Đưa về kiểu chữ thường\n",
        "def text_lowercase(text):\n",
        "    return text.lower()"
      ],
      "metadata": {
        "id": "ZQqBQJm00bqH"
      },
      "execution_count": 8,
      "outputs": []
    },
    {
      "cell_type": "markdown",
      "source": [
        "re.sub: 1 phương thức có tác dụng so khớp và thay thế chuỗi so khớp được.\n",
        "\n",
        "Với: r’\\d’ tương ứng với bất kỳ chữ số thập phân Unicode nào [0-9].\n",
        "\n",
        "-> Thay thế các chữ số tìm được bằng ''."
      ],
      "metadata": {
        "id": "AyTSO9e1ibHc"
      }
    },
    {
      "cell_type": "code",
      "source": [
        "#Loại bỏ các con số\n",
        "def remove_number(text):\n",
        "    result = re.sub(r'\\d+', '', text) \n",
        "    return result"
      ],
      "metadata": {
        "id": "mb8w3UhV4tYs"
      },
      "execution_count": 9,
      "outputs": []
    },
    {
      "cell_type": "markdown",
      "source": [
        "Dùng hàm .replace có sẵn trong python để thay thế các dấu câu tìm được bằng “ ”."
      ],
      "metadata": {
        "id": "JWPHT_XSio9Q"
      }
    },
    {
      "cell_type": "code",
      "source": [
        "#Loại bỏ các dấu câu\n",
        "def remove_punctuation(text):\n",
        "    text = text.replace(\",\", \" \").replace(\".\", \" \") \\\n",
        "    .replace(\";\", \" \").replace(\"“\", \" \") \\\n",
        "    .replace(\":\", \" \").replace(\"”\", \" \") \\\n",
        "    .replace('\"', \" \").replace(\"'\", \" \") \\\n",
        "    .replace(\"!\", \" \").replace(\"?\", \" \") \\\n",
        "    .replace(\"-\", \" \").replace(\"?\", \" \")  \n",
        "    return text"
      ],
      "metadata": {
        "id": "p3jKbkJf4tbC"
      },
      "execution_count": 10,
      "outputs": []
    },
    {
      "cell_type": "markdown",
      "source": [
        "Dùng hàm .split() để chuyển chuỗi text thành một list cắt theo separator (dấu phân tách) – separator để trống mặc định là khoảng cách.\n",
        "\n",
        "Sau đó dùng hàm .join() để chuyển list về chuỗi - các phần tử cách nhau bởi một khoảng cách “ ”."
      ],
      "metadata": {
        "id": "oHXSS_O6isUC"
      }
    },
    {
      "cell_type": "code",
      "source": [
        "#Loại bỏ khoảng trắng thừa\n",
        "def remove_whitespace(text): \n",
        "    return  \" \".join(text.split())"
      ],
      "metadata": {
        "id": "2D8zNSBs4tpO"
      },
      "execution_count": 11,
      "outputs": []
    },
    {
      "cell_type": "code",
      "source": [
        "# Bỏ bớt các chữ cái giống nhau liên tiếp( Vd: quaaa -> qua)\n",
        "def remove_similarletter(text):\n",
        "    text = re.sub(r'([A-Z])\\1+', lambda m: m.group(1).upper(), text, flags=re.IGNORECASE)\n",
        "    return text"
      ],
      "metadata": {
        "id": "HeZ-niqx4ttQ"
      },
      "execution_count": 12,
      "outputs": []
    },
    {
      "cell_type": "code",
      "source": [
        "#Tách từ tiếng Việt sử dụng thư viện underthesea có sẵn\n",
        "def VN_Tokenize(text,format='text'):\n",
        "  return underthesea.word_tokenize(text)"
      ],
      "metadata": {
        "id": "4MAu3IvCZwPO"
      },
      "execution_count": 13,
      "outputs": []
    },
    {
      "cell_type": "code",
      "source": [
        "print(VN_Tokenize(\"hàng cũ không đáng để mua\"))"
      ],
      "metadata": {
        "colab": {
          "base_uri": "https://localhost:8080/"
        },
        "id": "xfeOPE7KZwRa",
        "outputId": "5ae25e43-03b6-4907-a569-62e82d6d4374"
      },
      "execution_count": 14,
      "outputs": [
        {
          "output_type": "stream",
          "name": "stdout",
          "text": [
            "['hàng', 'cũ', 'không', 'đáng', 'để', 'mua']\n"
          ]
        }
      ]
    },
    {
      "cell_type": "markdown",
      "source": [
        "Stopwords là những từ xuất hiện rất nhiều trong các bài viết, các đoạn text nhưng lại không hề liên quan gì đến nội dung và ý nghĩa của bài viết, gây mơ hồ, làm quá trình máy học, phân loại giảm đi độ chính xác. file vietnamese-stopwords-dash.txt chứa một list những từ stopwords Tiếng Việt của tác giả Lê Văn Duyệt và chúng em có tinh chỉnh lại file cho phù hợp với đồ án lần này."
      ],
      "metadata": {
        "id": "Bh-1hWgciv7y"
      }
    },
    {
      "cell_type": "code",
      "source": [
        "#Loại bỏ các stopwords tiếng Việt sử dụng bộ stopwords có sẵn \n",
        "def remove_VN_stopwords(text):\n",
        "    file_stopwords = pd.read_csv('/content/drive/MyDrive/project_ML/vietnamese-stopwords-dash.txt', encoding = 'UTF-8')\n",
        "    file_stopwords.columns = [\"Stop_words\"]\n",
        "\n",
        "    VN_stopword = []\n",
        "    for i in file_stopwords[\"Stop_words\"]:\n",
        "        VN_stopword.append(i)\n",
        "        \n",
        "    text_token = VN_Tokenize(text)\n",
        "    result = [word for word in text_token if word not in VN_stopword]\n",
        "    return \" \".join(result)"
      ],
      "metadata": {
        "id": "7MxXi3KcZwTv"
      },
      "execution_count": 15,
      "outputs": []
    },
    {
      "cell_type": "markdown",
      "source": [
        "Trong lúc thu thập dữ liệu, chúng em thu thập được một dict chứa các teencode, viết tắt,… Trong quá trình xử lí dữ liệu, sẽ thực hiện tìm trong các bình luận nếu chứa các từ giống với key của phần tử trong replace_list ,ta gán giá trị từ đó bằng value của key tương ứng."
      ],
      "metadata": {
        "id": "r8gaEJMGi1mp"
      }
    },
    {
      "cell_type": "code",
      "source": [
        "#Chuẩn hóa dữ liệu\n",
        "def Util(text):\n",
        "    replace_list = {\n",
        "       ':v':'hihi', '<3':'yêu', '♥️':'yêu','❤':'yêu','a':'anh','ac':'anh chị','ace':'anh chị em','ad':'quản lý',\n",
        "       'ae':'anh em','ah':'à','ak':'à','amin':'quản lý','androir':'android','app':'ứng dụng','auto ':'tự động',\n",
        "       'ây':'vậy','b nào':'bạn nào','bằg':'bằng','băng':'bằng','băp':'bắp','băt':'bắt','battery':'pin','bể':'vỡ',\n",
        "       'been':'bên','best':'nhất','best':'tốt nhất','bgqafy ':'ngày','bh':'bao giờ','bh':'bây giờ','bhx':'bảo hành',\n",
        "       'bi':'bị','big':'lớn','bik':'biết','bin':'pin','bit':'biết','bít':'biết','bn':'bạn','bông tróc':'bong tróc', 'k': 'không', 'ok': 'được',\n",
        "       'bro':'anh em','bt':'bình thường','bt':'biết','bth':'bình thường','bthg':'bình thường','bua':'bữa','bùn':'buồn',\n",
        "       'buonc':'buồn','bx':'hộp','bye':'tạm biệt','c':'chị','cac':'các','cam':'máy ảnh','card':'thẻ','châu':'khỏe',\n",
        "       'chiệu':'triệu','chíp':'chip','chội':'trội','chs':'chơi','chửa':'chữa','chug ':'chung','chup':'chụp','chuq':'chung',\n",
        "       'clip':'đoạn phim','cmt':'bình luận','co':'có','cở':'cỡ','cọc':'cột','cpu':'chíp xử lý','cty':'công ty',\n",
        "       'cua':'của','cũg':'cũng','cug ':'cũng','cuh':'cũng','cùi':'tệ','củng':'cũng','cụt':'cục','cv':'công việc',\n",
        "       'cx':'cũng','đ':' đồng','dag':'đang','dăng':'văng','dấp':'lỗi','dất':'rất','đay':'đấy','đâỳ':'đầy','đc':'được',\n",
        "       'dè':'rè','dể':'dễ','delay':'trễ','dêm':'đêm','đén':'đến','deplay ':'chậm','deu':'đều','diem':'điểm','dien':'diện',\n",
        "       'đien':'điển','điễn':'điển','dienmayxanh':'điện máy xanh','dín':'dính','dis':'văng','diss':'văng','dk':'được',\n",
        "       'dmx':'điện máy xanh','dô':'vào','dõ':'rõ','dỡ':'dở','đỗi':'đổi','download':'tải','drop':'tụt','dt':'điện thoại',\n",
        "       'đt':'điện thoại','đth':'điện thoại','đthoai':'điện thoại','du':'dù','dùg':'dùng','dừg':'dừng','đứg':'đứng',\n",
        "       'dụg ':'dụng','dung':'dùng','đụng':'chạm','đươc':'được','đuọc ':'được','đưowjc':'được','dựt ':'giật','dx':'được'\n",
        "       ,'đx':'được','đy':'đi','e':'em','ế':'không bán được','êm':'tốt','f':'facebook','fabook':'facebook',\n",
        "       'face':'facebook','fast':'nhanh','fb':'facebook','fim':'phim','fix':'sửa','flash sale':'giảm giá','fm':'đài',\n",
        "       'for what':'vì sao','fps':'tốc độ khung hình','full':'đầy','future':'tương lai','game':'trò chơi','gem':'trò chơi',\n",
        "       'geme':'trò chơi','gia tiên':'giá tiền','giât':'giật','giốg ':'giống','giử':'dữ','giùm':'dùm','gmae':'trò chơi',\n",
        "       'gởi':'gửi','gold':'vàng','gơn':'hơn','good':'tốt','good jup':'tốt','gop':'góp','gửa':'gửi','gủng':'cái','h':'giờ',\n",
        "       'haiz':'thở dài','hẵn ':'hẳn','hành':'hành','hazzz':'haizz','hc':'học','hcm':'hồ chí minh','hd':'chất lượng cao',\n",
        "       'hdh':'hệ điều hành','hđh':'hệ điều hành','headphone':'tai nghe','hên':'may mắn','hẻo':'yếu','hẹo':'yếu','het':'hết',\n",
        "       'hét':'hết','hic':'khóc','hieu':'hiểu','high-tech':'công nghệ cao','hít':'sử dụng','hiu':'hiểu','hỉu':'hiểu',\n",
        "       'hk':'không','hn':'hà nội','hnay':'hôm nay','hoài':'nhiều lần','hoi':'hơi','hới':'hơi','hời':'tốt',\n",
        "       'hoi han':'hối hận','hok':'không','hong':'không','hông':'không','hot':'nổi bật','hqua':'hôm qua','hs':'học sinh',\n",
        "       'hssv':'học sinh sinh viên','hut':'hút','huway ':'huawei','huwei ':'huawei','í':'ý','I like it':'tôi thích nó',\n",
        "       'ik':'đi','ip':'iphone','j':'gì','k':'không','kàm':'làm','kb':'không biết','kg':'không','kh ':'khách hàng',\n",
        "       'khach':'khách hàng','khát phục':'khắc phục','khj':'khi','khoá ':'khóa','khóai ':'thích','khoẻ':'khỏe',\n",
        "       'khoẽ':'khỏe','khôg':'không','khoi đong':'khởi động','khong':'không','khoong ':'không','khuân':'khuôn',\n",
        "       'khủg':'khủng','kím':'kiếm','kipo':'tiêu cực','ko':'không','kt':'kiểm tra','ktra':'kiểm tra','la':'là',\n",
        "       'lác':'lỗi','lắc':'lỗi','lag':'lỗi','laii':'lại','lak':'giật','lan':'lần','lãng':'giật','lap':'máy tính',\n",
        "       'laptop':'máy tính','lay':'này','len toi':'lên tới','les':'led','lg':'lượng','lí':'lý','lien':'liên',\n",
        "       'like':'thích','liti':'nhỏ','live stream':'phát sóng trực tiếp','lm':'làm','ln':'luôn','loadd':'tải ',\n",
        "       'lôi':'lỗi','lổi':'lỗi','LOL ':'trò chơi','lởm':'kém chất lượng','lỏng lẽo':'lỏng lẻo','luc':'lúc','lun':'luôn',\n",
        "       'luong':'lượng','luot':'lướt','lưot ':'lượt','m':'mình','mạ':'trời','mắc công':'mất công','macseger':'messenger',\n",
        "       'mag':'màn','main':'chính','mak':'mà','man':'màn','màng':'màn','màng hình':'màn hình','mao ':'mau','mẩu':'mẫu',\n",
        "       'mầu ':'màu','max':'lớn nhất','may':'máy','mèn':'màn','méo gì':'làm gì','mih':'mình','mìk':'mình','min':'nhỏ nhât',\n",
        "       'mìn':'mình','mjh':'mình','mjk':'mình','mjnh':'minh','mk':'mình','mn':'mọi người','mng ':'mọi người','mo':'đâu',\n",
        "       'mò':'tìm','mobile':'điện thoại','mog':'mong','moi':'mới','mơi':'mới','ms':'mới','mún':'muốn','mước':'mức',\n",
        "       'mược':'mượt','muot':'mượt','mỷ':'mỹ','n':'nó','n':'nói chuyện','nãn':'nản','nayd':'này','nc':'nói chuyện',\n",
        "       'nch':'nói chuyện','nch':'nói chung','nếo ':'nếu','ng':'người','ngan':'ngang','nge':'nghe','nghiêm':'nghiệm',\n",
        "       'ngĩ':'nghĩ','ngốn':'sử dụng','nguon':'nguồn','nhah':'nhanh','nhan vien':'nhân viên','nhay':'nhạy','nhe':'nhé',\n",
        "       'nhèo':'nhòe','nhiet':'nhiệt','nhiểu':'nhiều','nhiu':'nhiều','nhìu':'nhiều','nhoè':'nhòe','như v':'như vậy',\n",
        "       'nhug':'nhưng','nhưg':'nhưng','nhữg':'những','nhung':'nhưng','nhuoc':'nhược','nhượt':'nhược','nock ao':'hạ gục',\n",
        "       'noi':'nói','nống':'nóng','not':'lưu ý','ns ':'nói','nsx':'ngày sản xuất','nt':'nhắn tin','ntin':'nhắn tin',\n",
        "       'ntn':'như thế nào','nũa':'nữa','nut ':'nút','nv':'nhân viên','nz':'như vậy','ô xi':'oxy','ofice':'văn phòng',\n",
        "       'ok':'được','ôk':'được','oke':'được','okee':'được','oki':'được','okie':'được','onl':'sử dụng',\n",
        "       'ộp ẹp':'không chắc chắn','option':'tùy chọn','or':'hoặc','out':'thoát','oỳ':'rồi','pải':'phải','phảm':'phẩm',\n",
        "       'phẩn':'phẩm','phan van':'phân vân','phèo':'vậy','phut ':'phút','pít':'biết','pro':'chất lượng cao','pùn':'buồn',\n",
        "       'pv':'giới thiệu','qá':'quá','qc':'quảng cáo','qtv':'quản trị viên','qua ve':'qua vẻ','quang trọng':'quan trọng',\n",
        "       'qus':'quá','r ':'rồi','rat':'rất','rát':'rất','rắt':'rất','rata':'rất','rễ':'dễ','rep':'trả lời',\n",
        "       'research':'nghiên cứu','reset':'cài đặt lại','restart':'khởi động lại','review':'đánh giá','rì':'gì',\n",
        "       'rinh':'mua','rỏ':'rõ','rùi':'rồi','rùng':'dùng','s':'sao','sac':'sạc','sài':'xài','sài':'dùng','sale':'giảm giá',\n",
        "       'sale off':'giảm giá','sâng':'sáng','sạt':'sạc','saving':'tiết kiệm','sd':'sử dụng','sdt':'số điện thoại',\n",
        "       'seal':'mới','search':'tìm kiếm','sefil':'chụp ảnh','selfie':'chụp ảnh','setting':'cài đặt','setup':'cài đặt',\n",
        "       'sexy':'quyến rũ','shiper':'nhân viên giao hàng','shop':'cửa hàng','skill':'kỹ năng','smooth':'mượt',\n",
        "       'so good':'rất tốt','sp':'sản phẩm','sphẩm':'sản phẩm','stars':'sao','sử':'xử','suất':'xuất','sưj':'sự',\n",
        "       'sước':'xước','super':'siêu','support':'hỗ trợ','sụt':'tụt','sv':'sinh viên','sx':'sản xuất','t':'tôi',\n",
        "       'T G D Đ':'thế giới di động','tằm ':'tầm','tes':'kiểm tra','test':'kiểm tra','tet':'tết','teung':'trung',\n",
        "       'tg':'thời gian','tgdd':'thế giới di động','tgdđ':'thế giới di động','thag':'tháng','thág':'tháng','ship':'giao','Ship':'giao',\n",
        "    }\n",
        "    text = text.split()\n",
        "    len_ = len(text)\n",
        "    for i in range(0, len_):    \n",
        "      for k, v in replace_list.items():\n",
        "        if (text[i]==k):\n",
        "          text[i] = v\n",
        "    return \" \".join(text)"
      ],
      "metadata": {
        "id": "sWXv2r8JZwV0"
      },
      "execution_count": 16,
      "outputs": []
    },
    {
      "cell_type": "code",
      "source": [
        "print(Util(\"Mau ship hàng tới để tôi còn lên đồ đi cua gái vào thag tới\"))"
      ],
      "metadata": {
        "colab": {
          "base_uri": "https://localhost:8080/"
        },
        "id": "937VAI4HaqCw",
        "outputId": "d2066d80-e5f9-42c2-e731-5bdf83b74a74"
      },
      "execution_count": 17,
      "outputs": [
        {
          "output_type": "stream",
          "name": "stdout",
          "text": [
            "Mau giao hàng tới để tôi còn lên đồ đi của gái vào tháng tới\n"
          ]
        }
      ]
    },
    {
      "cell_type": "markdown",
      "source": [
        "tổng hợp các hàm về một hàm xử lý dữ liệu (Text_PreProcessing_noutil) để thuận tiện cho việc sử dụng:"
      ],
      "metadata": {
        "id": "jSIsCcCki8wi"
      }
    },
    {
      "cell_type": "code",
      "source": [
        "def Text_PreProcessing_util(data):\n",
        "  result_1 = []\n",
        "  for i in data:\n",
        "    i = str(i)\n",
        "    text = text_lowercase(i)\n",
        "    text = remove_similarletter(text)\n",
        "    text = remove_number(text)\n",
        "    text = remove_punctuation(text)\n",
        "    text = remove_whitespace(text)\n",
        "    text = remove_VN_stopwords(text)\n",
        "    text = Util(text)\n",
        "    result_1.append(text)\n",
        "  return result_1"
      ],
      "metadata": {
        "id": "9ZKmE9pxaqEa"
      },
      "execution_count": 18,
      "outputs": []
    },
    {
      "cell_type": "code",
      "source": [
        "X_data_1 = X_data\n",
        "Y_data_1 = Y_data"
      ],
      "metadata": {
        "id": "EKN7MRdzaqJD"
      },
      "execution_count": 19,
      "outputs": []
    },
    {
      "cell_type": "code",
      "source": [
        "X_data_1 = Text_PreProcessing_util(X_data_1)"
      ],
      "metadata": {
        "id": "pdlaVK7qaqN9"
      },
      "execution_count": 21,
      "outputs": []
    },
    {
      "cell_type": "code",
      "source": [
        "print(X_data_1[1])"
      ],
      "metadata": {
        "colab": {
          "base_uri": "https://localhost:8080/"
        },
        "id": "wXEkaP_baqP4",
        "outputId": "8362a92b-b2c9-4068-b7a4-37edaf5e1723"
      },
      "execution_count": 22,
      "outputs": [
        {
          "output_type": "stream",
          "name": "stdout",
          "text": [
            "mới mua máy hôm qua máy bắt sóng g qua yếu loa lớn nhất rè không lỗi bảo hành khắc phục được không\n"
          ]
        }
      ]
    },
    {
      "cell_type": "markdown",
      "source": [
        "# Trích xuất đặc trưng sử dụng TF-IDF\n",
        "TF-IDF (Term Frequency - Inverse Document Frequency):\n",
        "\n",
        "TF: tần số xuất hiện của 1 từ trong 1 văn bản IDF: tần số nghịch của 1 từ trong một tập các văn bản Kỹ thuật TF-IDF dùng để tính toán tần suất xuất hiện của một từ trong văn bản, dựa trên đó để đánh giá mức độ quan trọng của từng từ trong văn bản\n",
        "\n",
        "\n",
        "\n"
      ],
      "metadata": {
        "id": "4qmDZeFtjE_Z"
      }
    },
    {
      "cell_type": "code",
      "source": [
        "vectorizer_1 = TfidfVectorizer()\n",
        "vectorizer_1.fit(X_data_1)\n",
        "X_data_tfidf_1 = vectorizer_1.transform(X_data_1).toarray()"
      ],
      "metadata": {
        "id": "428Lwc6naqR4"
      },
      "execution_count": 23,
      "outputs": []
    },
    {
      "cell_type": "code",
      "source": [
        "print(vectorizer_1.vocabulary_.keys())\n"
      ],
      "metadata": {
        "colab": {
          "base_uri": "https://localhost:8080/"
        },
        "id": "ONiERypubKz_",
        "outputId": "60ad80aa-054f-46d9-9d4a-b9d80ee7dfbe"
      },
      "execution_count": 24,
      "outputs": [
        {
          "output_type": "stream",
          "name": "stdout",
          "text": [
            "dict_keys(['mua', 'máy', 'được', 'ngày', 'nói', 'chung', 'giá', 'anh', 'em', 'dùng', 'nhé', 'lúc', 'sinh', 'nhật', 'tgd', 'nên', 'giảm', 'không', 'mới', 'hôm', 'qua', 'bắt', 'sóng', 'yếu', 'loa', 'lớn', 'nhất', 'rè', 'lỗi', 'bảo', 'hành', 'khắc', 'phục', 'hóa', 'đơn', 'thẻ', 'hỏng', 'thế', 'nào', 'ngoại', 'hình', 'đẹp', 'phím', 'mềm', 'nghe', 'gọi', 'to', 'rõ', 'âm', 'thanh', 'trẻo', 'pin', 'camera', 'quan', 'tâm', 'lắm', 'màn', 'phải', 'chê', 'chất', 'lượng', 'hơi', 'kém', 'chữ', 'vỡ', 'phông', 'đùng', 'chỉnh', 'đọc', 'tin', 'nhắn', 'mà', 'tức', 'tiền', 'cũng', 'hợp', 'lý', 'xài', 'tại', 'sao', 'lướt', 'facebok', 'ván', 'liên', 'quân', 'chỉ', 'tầm', 'tiếng', 'tốt', 'nhân', 'viên', 'nhiệt', 'tình', 'phiên', 'bản', 'chưa', 'dám', 'cập', 'biết', 'sạc', 'nóng', 'cả', 'củ', 'luôn', 'mọi', 'khác', 'ổn', 'tư', 'vấn', 'mi', 'tôi', 'cao', 'quá', 'nản', 'wifi', 'thậm', 'tệ', 'chụp', 'megapixel', 'zom', 'lại', 'chế', 'độ', 'giới', 'thiệu', 'mắc', 'hơn', 'ưu', 'đãi', 'kht', 'sản', 'phẩm', 'nhưng', 'trừ', 'run', 'lỡ', 'nhiều', 'trọng', 'đi', 'đường', 'chuông', 'đủ', 'lâu', 'dài', 'có', 'lẽ', 'sẻ', 'xử', 'dụng', 'cân', 'nhắc', 'thử', 'ngay', 'hàng', 'tuần', 'trò', 'chơi', 'dực', 'tắt', 'nguồn', 'một', 'thời', 'gian', 'sau', 'thua', 'cũ', 'mình', 'sim', 'bao', 'giờ', 'nhảy', 'lênh', 'vạch', 'tục', 'định', 'giật', 'kinh', 'khủng', 'nhanh', 'hết', 'phù', 'dân', 'kỹ', 'thuật', 'thất', 'vọng', 'thành', 'so', 'mastel', 'tab', 'loại', 'bình', 'thường', 'chai', 'gọn', 'nhẹ', 'tuyệt', 'vời', 'mặt', 'trời', 'cel', 'mượt', 'ảnh', 'dù', 'xuất', 'sắc', 'ấm', 'như', 'đánh', 'trâu', 'hiện', 'chị', 'vụ', 'tận', 'trạm', 'bus', 'gaming', 'tubor', 'tượng', 'đứng', 'người', 'cse', 'thoát', 'đơ', 'góc', 'nhểu', 'khởi', 'động', 'đầu', 'nhận', 'tất', 'cảm', 'ứng', 'nhạy', 'tương', 'xứng', 'cấu', 'đặc', 'biệt', 'nếu', 'lắp', 'ốp', 'lưng', 'hy', 'thể', 'hỗ', 'trợ', 'đề', 'ơn', 'youtube', 'cast', 'tv', 'thông', 'báo', 'control', 'nay', 'mất', 'tiêu', 'nhìn', 'số', 'vẻ', 'thân', 'hai', 'ngon', 'mặc', 'nock', 'ao', 'xuống', 'bê', 'tông', 'xước', 'kính', 'cửa', 'nguyên', 'hộp', 'thuyết', 'mở', 'kiểm', 'tra', 'điện', 'thoại', 'samsung', 'đào', 'đấy', 'xem', 'ra', 'đem', 'bằng', 'đổi', 'trả', 'mạng', 'chán', 'dán', 'keo', 'xấu', 'bung', 'vặt', 'tiếc', 'xong', 'hồi', 'sáng', 'ful', 'cắm', 'do', 'tiên', 'trận', 'minh', 'tốc', 'chiến', 'tốn', 'khoản', 'mp', 'da', 'tươi', 'trắng', 'pubg', 'khung', 'bật', 'bóng', 'thật', 'sự', 'pha', 'combat', 'team', 'giúp', 'phản', 'xạ', 'mát', 'rượi', 'trạng', 'khỏi', 'bàn', 'liền', 'lo', 'đồ', 'họa', 'pcảm', 'biến', 'vân', 'mồ', 'hôi', 'dạng', 'diện', 'khuôn', 'hãng', 'opo', 'ram', 'gb', 'thoải', 'mái', 'quay', 'phim', 'sticker', 'instargram', 'hiệu', 'instragram', 'lưu', 'nét', 'chút', 'tui', 'khỏe', 'hài', 'lòng', 'đả', 'cáp', 'dược', 'toàn', 'tập', 'tặng', 'file', 'word', 'chrome', 'chíp', 'tản', 'sửa', 'chục', 'chịu', 'lỗ', 'cực', 'kỳ', 'cạch', 'vsmart', 'chức', 'năng', 'khóa', 'danh', 'bạ', 'ghi', 'sử', 'tuy', 'nhiên', 'màu', 'lệch', 'khá', 'học', 'thiết', 'kế', 'vs', 'trc', 'chả', 'hiểu', 'phát', 'dạo', 'chậm', 'tụt', 'thấy', 'flaship', 'mấy', 'ngại', 'quyết', 'công', 'việc', 'ap', 'trung', 'video', 'cal', 'đừng', 'ngần', 'trải', 'nghệm', 'bỏ', 'túi', 'quần', 'xuyên', 'lung', 'tung', 'cài', 'đặt', 'tránh', 'chạm', 'camara', 'tự', 'khuyên', 'giác', 'bóc', 'tem', 'zin', 'xịn', 'xò', 'thơm', 'mùi', 'mỏng', 'nhỏ', 'chảnh', 'bò', 'ám', 'vàng', 'tác', 'văn', 'phòng', 'nâng', 'tối', 'thiểu', 'cứng', 'ít', 'hp', 'sêm', 'acer', 'cắt', 'chạy', 'ns', 'đòi', 'hỏi', 'nhạc', 'tai', 'phone', 'lề', 'chắc', 'quạt', 'thổi', 'rung', 'ghê', 'tính', 'jack', 'lần', 'chia', 'mẹ', 'thui', 'sập', 'dòng', 'facebook', 'tuột', 'luận', 'bộ', 'nhớ', 'đối', 'với', 'tải', 'excel', 'hao', 'mỗi', 'kakao', 'zalo', 'đựoc', 'né', 'restore', 'nhập', 'yose', 'virber', 'biểu', 'chờ', 'thao', 'note', 'hướng', 'dẫn', 'ultra', 'cận', 'cảnh', 'nhòe', 'plus', 'kia', 'mong', 'biện', 'pháp', 'lời', 'sup', 'hoàng', 'nguyễn', 'st', 'hùng', 'vương', 'huế', 'cám', 'di', 'gì', 'làm', 'quản', 'trầm', 'autocad', 'xùm', 'load', 'microsoft', 'store', 'nđ', 'trl', 'buộc', 'trưng', 'bày', 'đại', 'xíu', 'thích', 'shiper', 'cute', 'xỉu', 'realme', 'dc', 'khi', 'bực', 'tạm', 'tr', 'chua', 'km', 'dự', 'đắn', 'đo', 'khả', 'câu', 'thuyế', 'thực', 'tế', 'nghiệm', 'khoi', 'đong', 'lai', 'ban', 'đêm', 'nhà', 'phụcđã', 'mượn', 'mes', 'mạg', 'gps', 'xóa', 'ngầm', 'intel', 'optane', 'win', 'quyền', 'linh', 'tinh', 'hấp', 'se', 'thiếu', 'iphone', 'thêm', 'thanks', 'tdg', 'ăn', 'phết', 'phần', 'tả', 'cù', 'nam', 'vẩn', 'ung', 'cung', 'gà', 'wa', 'mờ', 'web', 'turbo', 'hz', 'setings', 'low', 'wotb', 'cục', 'than', 'loạn', 'quảng', 'bá', 'đbr', 'đâu', 'mah', 'sạch', 'ưng', 'siêu', 'rẻ', 'cày', 'nha', 'ios', 'hay', 'chân', 'thi', 'thoảng', 'tí', 'quen', 'vn', 'tội', 'nốt', 'ruồi', 'câc', 'sho', 'ghé', 'ủng', 'hộ', 'trưa', 'tổng', 'ràng', 'nắng', 'sách', 'mật', 'khẩu', 'ktv', 'mãi', 'chính', 'xác', 'bền', 'chi', 'tiết', 'trúng', 'nguy', 'hiểm', 'mắt', 'chắn', 'bấm', 'lựa', 'chọn', 'khang', 'cầu', 'giấy', 'hà', 'nội', 'thiện', 'đáng', 'lạ', 'vui', 'vị', 'sở', 'hữu', 'vết', 'nứt', 'dìm', 'hào', 'kêu', 'kết', 'nối', 'hệ', 'thống', 'jk', 'chàng', 'thù', 'suy', 'nghĩ', 'sai', 'lâm', 'active', 'aris', 'việt', 'lalt', 'vòng', 'tròn', 'ồn', 'cải', 'vivo', 'bay', 'dạy', 'wua', 'unges', 'ngj', 'he', 'phí', 'rất', 'cầm', 'đầm', 'vô', 'cái', 'đỏ', 'đen', 'uy', 'tín', 'khui', 'ôi', 'thôi', 'đàng', 'quý', 'ty', 'chập', 'chờn', 'chèn', 'mesenger', 'bây', 'ngang', 'ngửa', 'triệu', 'nửa', 'ảo', 'hoa', 'hồng', 'khôi', 'gốc', 'văng', 'yêu', 'nyc', 'giống', 'tiệm', 'tuan', 'chiều', 'ytb', 'mao', 'khó', 'cấp', 'sd', 'pcle', 'hi', 'del', 'bỉ', 'chúc', 'triển', 'vững', 'nặng', 'smartphone', 'chữa', 'cháy', 'chỗ', 'trữ', 'mục', 'chiếm', 'bớt', 'góp', 'lãi', 'sức', 'tưởng', 'tý', 'vừa', 'để', 'mau', 'xai', 'redmis', 'yen', 'tam', 'sam', 'sung', 'giản', 'giao', 'chúng', 'ta', 'quên', 'ngồi', 'xổm', 'rơi', 'khoảng', 'cách', 'cm', 'thay', 'fine', 'khét', 'board', 'phồng', 'kênh', 'nắp', 'kể', 'dữ', 'liệu', 'năm', 'tháng', 'già', 'came', 'ánh', 'xanh', 'nút', 'hiển', 'thị', 'nhỡ', 'điểm', 'rối', 'hút', 'bánh', 'béo', 'backup', 'bất', 'tiện', 'vote', 'đinh', 'chuẩn', 'bị', 'android', 'gián', 'chip', 'ngỡ', 'ai', 'ngờ', 'điều', 'kiện', 'nổi', 'khiếp', 'galaxy', 'bạn', 'bè', 'lui', 'cuối', 'cùng', 'hốt', 'vắng', 'vip', 'chăm', 'sóc', 'chuyện', 'đôi', 'đmx', 'ven', 'gò', 'quao', 'sướng', 'sợ', 'cột', 'nôn', 'nao', 'amoled', 'cáo', 'kì', 'dễ', 'dính', 'update', 'thấp', 'opera', 'thình', 'lình', 'click', 'đóng', 'close', 'chu', 'check', 'đợi', 'cơ', 'môi', 'trường', 'xảy', 'va', 'đập', 'mv', 'ca', 'youtobe', 'code', 'nhựa', 'trên', 'dưới', 'trang', 'miro', 'tivi', 'toshiba', 'regza', 'chào', 'trị', 'vậy', 'phiền', 'trăm', 'hận', 'kiểu', 'ấn', 'tời', 'dấu', 'vốn', 'nokia', 'gia', 'dê', 'trở', 'thánh', 'mười', 'id', 'là', 'tùy', 'hư', 'gửi', 'gòn', 'chẳng', 'redmi', 'đứt', 'yên', 'as', 'bố', 'okopo', 'thu', 'opas', 'phụ', 'khí', 'rút', 'tài', 'lạng', 'hưởng', 'ví', 'dụ', 'chplay', 'gogle', 'bé', 'đượcnói', 'bốn', 'trái', 'thái', 'đẳng', 'kha', 'vạn', 'đồng', 'phân', 'khúc', 'nhiêu', 'khai', 'thác', 'gắn', 'tay', 'trục', 'trặc', 'lỏng', 'quét', 'nầy', 'mã', 'za', 'thỉnh', 'mediatek', 'snapdragon', 'reamle', 'lượt', 'touch', 'unlock', 'rằng', 'đk', 'qrime', 'chổ', 'wf', 'ưd', 'asus', 'chưng', 'hửng', 'càg', 'gạt', 'buồn', 'vài', 'ba', 'bữa', 'bluetoth', 'kích', 'thước', 'tăng', 'xã', 'hội', 'chốt', 'okôn', 'suốt', 'tần', 'càng', 'hổ', 'chủ', 'đáo', 'thây', 'vể', 'rot', 'dơi', 'bọn', 'hack', 'nhở', 'kĩ', 'phương', 'thegioididong', 'youtubek', 'mỏi', 'thương', 'lên', 'đời', 'trội', 'utra', 'su', 'nảy', 'tích', 'lạc', 'lứa', 'niềm', 'nở', 'núi', 'đốc', 'tỉnh', 'an', 'giang', 'mỹ', 'tho', 'lĩnh', 'cẩm', 'nghệ', 'mobel', 'dai', 'lau', 'phán', 'bự', 'bó', 'th', 'ăngten', 'rời', 'đài', 'giành', 'gái', 'điển', 'cường', 'lực', 'chorme', 'cốc', 'khách', 'thank', 'trượt', 'alo', 'xiaomi', 'dịch', 'play', 'services', 'gập', 'thuận', 'cấn', 'sms', 'ly', 'đàm', 'giọng', 'chát', 'ngoài', 'gió', 'mạc', 'hát', 'cháu', 'lq', 'tró', 'nhạt', 'window', 'mac', 'os', 'thegioididongcom', 'ân', 'cần', 'quà', 'mướt', 'treo', 'laq', '_s', 'não', 'apel', 'logo', 'ngược', 'thuong', 'lu', 'quy', 'phai', 'lịch', 've', 'cai', 'rưỡi', 'giựt', 'hẳn', 'đăng', 'gmail', 'vos', 'nghị', 'gấp', 'ma', 'bội', 'mêm', 'dat', 'gi', 'can', 'hột', 'pupg', 'bẩn', 'vivobok', 'xma', 'brt', 'viền', 'chuột', 'dây', 'giây', 'phút', 'toa', 'lợi', 'chuyên', 'nghiệp', 'dao', 'lam', 'miếng', 'cà', 'lem', 'nhem', 'gớm', 'lột', 'xót', 'chương', 'trình', 'nfc', 'tìm', 'khoan', 'mệt', 'nhọc', 'sđt', 'hủy', 'nhu', 'online', 'hồ', 'trầy', 'coi', 'cóc', 'doanh', 'lẻ', 'link', 'htps', 'avdktkbuo', 'hoạt', 'tẹt', 'gas', 'ích', 'dư', 'thang', 'tn', 'khe', 'bổ', 'fold', 'vì', 'chấp', 'gạo', 'dáng', 'duy', 'cpro', 'karaoke', 'now', 'ikara', 'trực', 'tiếp', 'mic', 'kara', 'buds', 'sẵn', 'nhám', 'mịn', 'đông', 'xạc', 'hinh', 'đươcj', 'thủ', 'đón', 'cạnh', 'lớp', 'bọc', 'chống', 'sốc', 'đội', 'nhiệm', 'bù', 'hứng', 'cố', 'fe', 'đung', 'kèm', 'háo', 'lầm', 'gói', 'vận', 'chuyển', 'áp', 'hầu', 'rest', 'giải', 'chug', 're', 'de', 'radio', 'ròi', 'xét', 'helio', 'gt', 'bóp', 'xung', 'seting', 'đeo', 'khựng', 'hoàn', 'hoặc', 'rồi', 'thon', 'bo', 'cong', 'nhược', 'kim', 'cúng', 'dày', 'bám', 'rớt', 'cấm', 'gấptheo', 'lipo', 'trì', 'thíu', 'đèn', 'flash', 'sống', 'đa', 'tóm', 'hối', 'cộng', 'kỷ', 'ôm', 'hề', 'loadn', 'siu', 'múc', 'dàng', 'ck', 'thằng', 'nhóc', 'mốt', 'đình', 'mart', 'be', 'deplay', 'tằm', 'dã', 'wed', 'core', 'ok', 'trí', 'nhọ', 'giả', 'lập', 'mẫu', 'coupon', 'uag', 'mesges', 'bjo', 'gủi', 'sữa', 'rực', 'hdr', 'dcip', 'rom', 'vivu', 'hạn', 'tiktok', 'bụp', 'lặp', 'lục', 'haiz', 'ưa', 'muốn', 'thức', 'fans', 'con', 'thứ', 'lazada', 'đag', 'ănten', 'đổ', 'mxh', 'yt', 'xìu', 'cử', 'vuốt', 'nhầm', 'tạch', 'admin', 'đục', 'ultral', 'giỏi', 'kho', 'hoab', 'vào', 'phà', 'thiệt', 'tgđ', 'kí', 'rtaif', 'tk', 'gole', 'ngắn', 'vậynó', 'mông', 'sang', 'dựa', 'nền', 'tảng', 'nm', 'kiệm', 'lóa', 'rộng', 'nhàng', 'soạn', 'thảo', 'bảng', 'chí', 'mô', 'phỏng', 'matlab', 'trơn', 'tru', 'tha', 'gõ', 'phả', 'đằng', 'temp', 'vi', 'bas', 'kép', 'stereo', 'thưởng', 'mono', 'cổng', 'usb', 'hàn', 'kéo', 'ruột', 'tim', 'gan', 'thận', 'chảy', 'mỡ', 'đau', 'sổ', 'hày', 'quốc', 'lộ', 'long', 'vĩnh', 'khen', 'duyệt', 'lũng', 'lễ', 'phép', 'theo', 'in', 'cánh', 'tân', 'ũng', 'hihi', 'vỏ', 'khít', 'ọp', 'ẹp', 'internet', 'cô', 'nhiệ', 'chấm', 'đế', 'tiêng', 'aspire', 'ep', 'câm', 'chat', 'trỏ', 'nhôm', 'roi', 'tat', 'souncard', 'trọn', 'lẫn', 'fpt', 'đếm', 'type', 'one', 'cõng', 'inh', 'rỗ', 'reo', 'địa', 'lội', 'tủm', 'vớt', 'trịu', 'hìnhra', 'reno', 'dldđ', 'cước', 'nhậnso', 'volum', 'ltps', 'lcd', 'celphones', 'ips', 'đắt', 'kiến', 'ofice', 'miễn', 'im', 'kh', 'fun', 'lùi', 'tiến', 'joy', 'mạnh', 'mẽ', 'trai', 'quài', 'chớp', 'nè', 'về', 'vinmats', 'tạt', 'lon', 'vin', 'smoth', 'ch', 'tát', 'hehe', 'huawei', 'dưng', 'ức', 'cá', 'thần', 'phê', 'giáo', 'mắn', 'ào', 'ầm', 'lãm', 'trôi', 'ping', 'qr', 'gìcam', 'trông', 'nạp', 'nhơn', 'pmh', 'sưu', 'lenovo', 'idealpad', 'tiki', 'aple', 'quả', 'tủ', 'lạnh', 'macbok', 'hòa', 'nồi', 'cơm', 'tử', 'bếp', 'mesager', 'ui', 'cungx', 'màà', 'mb', 'gòi', 'ngắc', 'data', 'lêncòn', 'phẫm', 'thói', 'kaka', 'saì', 'riếc', 'tới', 'hởi', 'nân', 'pop', 'up', 'thà', 'sơ', 'nháy', 'chóng', 'tết', 'viết', 'hảo', 'yerh', 'nhac', 'nho', 'ngộ', 'nghĩnh', 'sớm', 'dan', 'tồi', 'cụ', 'opsion', 'tôt', 'wfi', 'đb', 'pikachu', 'nãy', 'phường', 'anker', 'tks', 'căng', 'det', 'hoid', 'chóc', 'sơn', 'móp', 'lùn', 'bong', 'đỏi', 'đg', 'đám', 'tiệc', 'uk', 'chước', 'hứa', 'vk', 'ntnvì', 'nữ', 'tuot', 'that', 'ẻm', 'lơ', 'oled', 'đỉnh', 'múa', 'kinb', 'live', 'đô', 'chử', 'chạp', 'quán', 'hẹn', 'sương', 'rừng', 'đệm', 'phóng', 'mkb', 'dọn', 'rác', 'ber', 'diễn', 'thegioid', 'lâ', 'celphone', 'đợt', 'tham', 'khảo', 'china', 'râm', 'nhắm', 'mơ', 'sọc', 'đam', 'mê', 'oneplus', 'nhánh', 'trùng', 'khánh', 'nịnh', 'ước', 'vợ', 'no', 'chan', 'chặn', 'khoe', 'đất', 'ole', 'còng', 'kềnh', 'đành', 'khổ', 'huwei', 'home', 'sl', 'phiến', 'powerpoint', 'huống', 'dowload', 'lóc', 'mốc', 'phut', 'lqmb', 'spro', 'dẹp', 'xinh', 'itel', 'toang', 'tuyêt', 'vơi', 'chay', 'nua', 'lân', 'quang', 'sắt', 'lừa', 'rui', 'nhấn', 'kẹo', 'noise', 'blutoth', 'dùm', 'hửu', 'thì', 'hoac', 'mang', 'đều', 'virus', 'vay', 'đr', 'choi', 'dựt', 'lấm', 'flagship', 'rán', 'trứng', 'marketing', 'thịt', 'chó', 'doi', 'cỡ', 'fre', 'chinh', 'lat', 'thỉ', 'vá', 'lận', 'săn', 'phàn', 'nàn', 'hỏa', 'trễ', 'thoang', 'đoc', 'vuôt', 'xuông', 'trấn', 'mãn', 'kên', 'vd', 'mía', 'neo', 'okey', 'auto', 'nhan', 'zing', 'gút', 'and', 'poco', 'solop', 'relax', 'buổi', 'corona', 'kê', 'sánh', 'chói', 'hom', 'khối', 'kiếm', 'đoi', 'dương', 'xám', 'lật', 'nữa', 'bén', 'khuyết', 'ngón', 'xoay', 'nuốt', 'ran', 'hưng', 'thắc', 'cụm', 'vmart', 'đột', 'ngột', 'bệch', 'khac', 'biet', 'cãi', 'váy', 'lte', 'cat', 'asistant', 'lạch', 'huy', 'khuyến', 'mại', 'bok', 'cover', 'độc', 'gương', 'thú', 'dở', 'tì', 'ti', 'vinmart', 'hả', 'dỏm', 'ha', 'trẻ', 'phãn', 'phạm', 'cổ', 'nhuế', 'website', 'akg', 'ủi', 'tắc', 'chiết', 'khấu', 'mưa', 'xay', 'tố', 'philips', 'dạ', 'nhái', 'time', 'trước', 'gải', 'sớt', 'cho', 'micro', 'kẻo', 'ngta', 'quê', 'châc', 'times', 'mạch', 'oki', 'dần', 'truy', 'garena', 'nhiễu', 'hạt', 'chomre', 'disk', 'chú', 'giày', 'đáp', 'kiễm', 'vậymua', 'nhợt', 'super', 'xách', 'kông', 'nổ', 'trlike', 'đê', 'tiểu', 'diệu', 'quanh', 'lưot', 'pham', 'còm', 'lồi', 'lao', 'phổ', 'khoảnh', 'khiển', 'nỗi', 'chư', 'gren', 'white', 'càu', 'nợ', 'chết', 'phố', 'giắt', 'hđ', 'snap', 'huawie', 'hw', 'dò', 'đồn', 'hưawei', 'nova', 'lê', 'vincom', 'xướt', 'hd', 'of', 'duty', 'thỳ', 'xưa', 'sủ', 'ghép', 'đấu', 'tè', 'le', 'eu', 'miui', 'notelite', 'đương', 'tỉ', 'lệ', 'huhu', 'bụi', 'kiểng', 'gỡ', 'dcim', 'png', 'vtq', 'này', 'dẻ', 'ad', 'ambum', 'dutx', 'mx', 'mwpa', 'ẩn', 'mesengervẫn', 'macro', 'uống', 'snapg', 'adreno', 'egb', 'sr', 'haha', 'nhỉnh', 'antutu', 'rườm', 'rà', 'thegioidiđong', 'đep', 'ngất', 'haz', 'lơna', 'op', 'hở', 'mói', 'lành', 'vèo', 'kiếp', 'đến', 'sát', 'ki', 'nhoẹt', 'chiu', 'hãi', 'nhuận', 'pịn', 'lát', 'bnhân', 'san', 'vứt', 'niêm', 'phong', 'chứng', 'vệt', 'am', 'al', 'tx', 'buôn', 'đăk', 'lăk', 'vệ', 'nghưng', 'promax', 'tò', 'ia', 'lá', 'bat', 'ấylâu', 'trắngnhấn', 'back', 'thánglâu', 'thks', 'vc', 'corning', 'gorila', 'xắp', 'find', 'updates', 'bỏng', 'ngắm', 'mầu', 'nhiễm', 'god', 'thư', 'tuân', 'lăm', 'rôi', 'mán', 'fan', 'rùa', 'triêu', 'trog', 'mng', 'quad', 'tím', 'mãnh', 'giáp', 'đỡ', 'nhòa', 'blut', 'đở', 'khiến', 'vượng', 'cặp', 'pt', 'nằm', 'ủy', 'ký', 'thỏa', 'grab', 'hoài', 'vả', 'adroid', 'dịp', 'box', 'thuyệt', 'dối', 'chiếu', 'day', 'made', 'by', 'vietnam', 'modem', 'hours', 'ngưng', 'prime', 'hêt', 'dg', 'khăn', 'training', 'chót', 'qmobile', 'vita', 'mik', 'vietel', 'đè', 'bẹp', 'nhúc', 'nhích', 'duyên', 'sựcuối', 'philong', 'phận', 'phiong', 'teamview', 'vinsmart', 'đá', 'tùm', 'lum', 'tôn', 'xứ', 'kịp', 'huyền', 'khứ', 'oanh', 'liệt', 'chuối', 'căm', 'chọi', 'apgalary', 'ptal', 'seach', 'bubg', 'đống', 'pb', 'tq', 'phầm', 'map', 'nồng', 'oxy', 'máu', 'ngây', 'đẹpmáy', 'giú', 'vấp', 'đky', 'mobifone', 'mhuwng', 'zaloyoutube', 'nghĩa', 'lọt', 'hì', 'ghét', 'vismat', 'điệu', 'chuyến', 'chot', 'cu', 'nhiêt', 'dem', 'qa', 'mây', 'chuyền', 'kiem', 'mât', 'rât', 'bât', 'giai', 'quyet', 'toi', 'ntnmong', 'phan', 'ẹt', 'oạch', 'vinid', 'theme', 'otp', 'sót', 'căn', 'costdown', 'lùng', 'driver', 'oh', 'my', 'bixby', 'khôn', 'cự', 'lõi', 'bải', 'thoi', 'mày', 'ngắt', 'thề', 'giòn', 'tan', 'nát', 'sắm', 'dốc', 'kệ', 'chênh', 'mẹo', 'biếu', 'rạt', 'phức', 'nhây', 'nghi', 'corei', 'tróc', 'rạch', 'đước', 'vina', 'đầy', 'tàu', 'đà', 'gạch', 'hồn', 'toug', 'tuệ', 'cằng', 'tạo', 'thụt', 'nhậy', 'đúng', 'cẩn', 'wep', 'dị', 'xi', 'bạc', 'táo', 'bạo', 'nước', 'cất', 'cắn', 'răng', 'híc', 'vsmat', 'tràng', 'trề', 'nảnlên', 'ái', 'ét', 'androi', 'vuông', 'kiên', 'sapda', 'air', 'mqdsa', 'ghz', 'thik', 'choẹt', 'ứg', 'dụg', 'tháo', 'dĩ', 'phẳng', 'tút', 'rắc', 'lắng', 'lẹ', 'tạp', 'tranh', 'nhề', 'tut', 'của', 'samsungchờ', 'bựa', 'tháy', 'dập', 'miết', 'prim', 'luônhuhu', 'hạnh', 'phúc', 'vinh', 'hdmi', 'thợ', 'thưa', 'ạem', 'ộp', 'lẽo', 'blackbery', 'tcl', 'dthoai', 'phiếu', 'toán', 'thoai', 'xin', 'great', 'rồng', 'north', 'lite', 'vsoi', 'notes', 'bai', 'hih', 'nề', 'bút', 'cỏi', 'vưa', 'chừng', 'tp', 'bến', 'tre', 'manh', 'hóng', 'tuyêth', 'diệt', 'rằm', 'mùng', 'lăp', 'nghiện', 'ròy', 'phềm', 'ar', 'ạk', 'lô', 'rốt', 'model', 'nén', 'loang', 'mực', 'den', 'zeno', 'hằng', 'dis', 'novai', 'hang', 'đanh', 'liều', 'điên', 'tao', 'oan', 'lịnh', 'khựa', 'méo', 'mù', 'rành', 'nute', 'pr', 'zay', 'mieng', 'môt', 'nhè', 'hum', 'pay', 'net', 'mod', 'khóc', 'cskh', 'xí', 'thụ', 'dòy', 'kiu', 'roài', 'thở', 'vây', 'kip', 'từ', 'rich', 'kid', 'hifnh', 'very', 'godthi', 'ioe', 'trú', 'thoái', 'xr', 'dõi', 'tablet', 'gpu', 'nấp', 'hẹp', 'che', 'xu', 'xuốg', 'khoảg', 'chẳg', 'mai', 'lhong', 'đuọc', 'khõe', 'chuỗi', 'device', 'recognized', 'wigfi', 'xiền', 'bắp', 'lặt', 'mấycòn', 'giac', 'nx', 'volume', 'phin', 'giáa', 'áy', 'cú', 'thèm', 'lava', 'nhachở', 'tuổi', 'thơ', 'điem', 'gêm', 'mắy', 'trách', 'nhại', 'gbgb', 'kiển', 'nhấp', 'lang', 'zậy', 'hạ', 'mổi', 'nhường', 'bát', 'rắn', 'riết', 'mền', 'nhậpvd', 'dang', 'nai', 'task', 'manager', 'ngủ', 'hui', 'fire', 'fhd', 'rỡ', 'hiên', 'kiệp', 'câph', 'gd', 'rãnh', 'hàngđợi', 'đạo', 'com', 'ngã', 'trần', 'tphcm', 'dựng', 'thượng', 'sâu', 'ngô', 'thủy', 'sag', 'thò', 'biển', 'hải', 'khoang', 'camre', 'ngầu', 'ten', 'wiko', 'nhá', 'phô', 'trương', 'lh', 'hụt', 'xảo', 'bronze', 'brand', 'new', 'ua', 'smart', 'hub', 'pokemon', 'thid', 'xs', 'ro', 'an_hải', 'huyết', 'lăn', 'tănrealme', 'dth', 'oi', 'đoán', 'sút', 'tậu', 'dắc', 'mòn', 'khu', 'quới', 'quát', 'canh', 'vượt', 'lương', 'tịt', 'ngh', 'kug', 'thảm', 'dẽ', 'bắc', 'tuyet', 'khoái', 'vãi', 'tươbg', 'bán', 'đút', 'xe', 'avatar', 'musik', 'nhịp', 'gh', 'lấp', 'dậy', 'thich', 'côg', 'me', 'dâu', 'microusb', 'kè', 'trà', 'kirin', 'aurora', 'apkpure', 'vanced', 'song', 'tuong', 'ben', 'top', 'nut', 'ngc', 'hớ', 'lở', 'voucher', 'bâtj', 'trơ', 'đu', 'nthe', 'ham', 'võ', 'nano', 'ănkhởi', 'nâu', 'ưngz', 'go', 'quầnmột', 'lọc', 'menu', 'ipad', 'english', 'nghịch', 'cạn', 'cuộn', 'lặng', 'thữ', 'gp', 'xanhvì', 'hinhưng', 'ấp', 'chợ', 'ẩu', 'zombie', 'tsunami', 'nhén', 'nhéđt', 'doc', 'ạcòn', 'ổnpin', 'games', 'fife', 'chác', 'iphon', 'hon', 'ho', 'it', 'vẽ', 'blutod', 'sặp', 'sụp', 'dừng', 'huynh', 'samfan', 'ráng', 'aps', 'cug', 'ngàyscan', 'nghỉ', 'kham', 'mùa', 'trieu', 'nhể', 'thừa', 'facebokv', 'phủ', 'there', 'vật', 'món', 'vo', 'notepro', 'pas', 'ôkê', 'neu', 'duoc', 'led', 'đâm', 'tap', 'trg', 'ghe', 'ngạc', 'mat', 'cuộc', 'wild', 'rift', 'dreamleague', 'socer', 'bík', 'lsao', 'đẫm', 'xaci', 'đốm', 'vạng', 'sậm', 'xuôi', 'disable', 'motor', 'đét', 'náy', 'soi', 'giọt', 'luốn', 'key', 'còn', 'tồn', 'htc', 'truoc', 'lược', 'qvga', 'nvkt', 'vê', 'thoãi', 'phá', 'xui', 'vớ', 'thọ', 'lức', 'kẻ', 'kìa', 'lằm', 'dởm', 'đích', 'bài', 'java', 'bnhiu', 'ngu', 'chô', 'nghìn', 'đẩy', 'lốc', 'vát', 'quyến', 'rũ', 'nắm', 'túm', 'rẽ', 'tốtloa', 'triết', 'mội', 'phờ', 'sip', 'bờ', 'lút', 'ngứa', 'chau', 'chuốt', 'èn', 'hại', 'đưoc', 'ghost', 'pik', 'glas', 'kháng', 'trống', 'giàu', 'xuon', 'trãi', 'hoảng', 'fai', 'nghea', 'mh', 'tỷ', 'gio', 'vó', 'nhuong', 'sét', 'pugb', 'chồng', 'hôn', 'chật', 'men', 'dặc', 'spen', 'dó', 'share', 'cúp', 'chen', 'toái', 'xog', 'bàng', 'abc', 'bở', 'quít', 'xưởng', 'giẻ', 'rách', 'uổng', 'phik', 'transion', 'infinix', 'tecno', 'cạy', 'trật', 'nhíp', 'hieur', 'tot', 'tu', 'dau', 'chuan', 'kich', 'hoat', 'esim', 'van', 'chơ', 'suf', 'operamini', 'gprs', 'bão', 'ngũ', 'pit', 'xuân', 'phối', 'vọc', 'lười', 'bận', 'rộn', 'ph', 'chùi', 'pdf', 'work', 'zalomesenger', 'dcmg', 'nghiến', 'coment', 'ngọc', 'trinh', 'lisa', 'thángcái', 'rảnh', 'nết', 'đồi', 'sò', 'rieng', 'đư', 'opoa', 'lỏi', 'loi', 'kiếng', 'ghim', 'giữ', 'gom', 'ngừng', 'vinfat', 'uổn', 'tên', 'khẳng', 'trân', 'đảm', 'ru', 'thổ', 'giực', 'zh', 'ninh', 'spodcon', 'lũ', 'bang', 'mẻ', 'đầymua', 'gamehub', 'thê', 'mặn', 'chăng', 'vertu', 'vidieo', 'slowmoition', 'hàg', 'tựa', 'mức', 'phanh', 'hìn', 'copy', 'moto', 'film', 'úp', 'you', 'thả', 'đụt', 'sụng', 'exynos', 'pen', 'hòng', 'li', 'on', 'hero', 'ctrinh', 'thúc', 'tgì', 'bề', 'bjk', 'khám', 'thới', 'đểu', 'vực', 'tĩnh', 'lightning', 'inch', 'dứ', 'ngành', 'chẳn', 'đoạn', 'wutacam', 'unilke', 'tờ', 'ol', 'tù', 'túng', 'nẵng', 'mườn', 'tràn', 'tuyến', 'student', 'viễn', 'garaxy', 'bthường', 'voi', 'mamut', 'dap', 'xăng', 'dăm', 'tag', 'luân', 'mini', 'kthuat', 'đính', 'real', 'gè', 'tách', 'pl', 'đóm', 'lố', 'quền', 'gìcon', 'tròng', 'nhânmình', 'ngủm', 'hiếm', 'qtqđ', 'rổ', 'tele', 'pi', 'nubia', 'aces', 'thjet', 'nuoc', 'vien', 'héo', 'tưỡng', 'muộn', 'hạch', 'chặt', 'tóe', 'lóe', 'lòi', 'nghề', 'thoat', 'sô', 'hyhy', 'xá', 'nhât', 'trằng', 'đây', 'trồi', 'bách', 'gần', 'gũi', 'lagi', 'đua', 'nấc', 'đạc', 'ông', 'bà', 'flip', 'nhăn', 'loát', 'trcp', 'nvien', 'tổg', 'đúg', 'đàh', 'fptshop', 'trăng', 'mến', 'chứa', 'tb', 'nhức', 'sony', 'khớp', 'thứa', 'nhìunói', 'tốtrât', 'hú', 'quầy', 'may', 'muốm', 'theamazing', 'spider', 'bug', 'dp', 'yoy', 'úng', 'len', 'ngạn', 'info', 'hiếu', 'lổ', 'nhúng', 'lõng', 'ưuanr', 'csos', 'tật', 'hmd', 'lol', 'tuyết', 'đuôi', 'siệu', 'vờ', 'db', 'bk', 'lưỡng', 'dặn', 'bùng', 'binh', 'mũ', 'xúc', 'tăn', 'colpad', 'khích', 'madein', 'nhẽ', 'finex', 'phonh', 'rog', 'viêt', 'quánh', 'bàm', 'nghèo', 'bphone', 'phìm', 'quãng', 'miên', 'ngăn', 'cản', 'thẳng', 'thắn', 'ps', 'tụi', 'gê', 'mả', 'cậy', 'adr', 'luon', 'maps', 'onedrive', 'đượctgdđ', 'túc', 'chánh', 'genshin', 'sưng', 'rớ', 'sdụng', 'miềm', 'sôi', 'xa', 'xỉ', 'thiets', 'sứ', 'mot', 'ql', 'vong', 'hói'])\n"
          ]
        }
      ]
    },
    {
      "cell_type": "code",
      "source": [
        "print(X_data_tfidf_1.shape)"
      ],
      "metadata": {
        "colab": {
          "base_uri": "https://localhost:8080/"
        },
        "id": "ZmNh5aRNbK22",
        "outputId": "e25939dc-c35d-47a1-b26c-5da193ffecb0"
      },
      "execution_count": 25,
      "outputs": [
        {
          "output_type": "stream",
          "name": "stdout",
          "text": [
            "(1999, 2822)\n"
          ]
        }
      ]
    },
    {
      "cell_type": "markdown",
      "source": [
        "# Chia bộ dataset và tiến hành train, test, đánh giá các model\n",
        "Chia bộ dataset theo tỷ lệ train/test ứng với 80/20"
      ],
      "metadata": {
        "id": "-rklY6QZjT7k"
      }
    },
    {
      "cell_type": "code",
      "source": [
        "X_train_1, X_test_1, Y_train_1, Y_test_1 = train_test_split(X_data_tfidf_1, Y_data_1, test_size=0.2)"
      ],
      "metadata": {
        "id": "QdU_tTqobK7j"
      },
      "execution_count": 26,
      "outputs": []
    },
    {
      "cell_type": "markdown",
      "source": [
        "# Train và test với model SVC"
      ],
      "metadata": {
        "id": "T5ocyYsIjbYE"
      }
    },
    {
      "cell_type": "code",
      "source": [
        "model_SVC = SVC(kernel='linear')\n",
        "model_SVC.fit(X_train_1, Y_train_1)\n",
        "print(\"Model SVC\")\n",
        "print(\"Train score: \", model_SVC.score(X_train_1, Y_train_1))\n",
        "print(\"Test score: \", model_SVC.score(X_test_1, Y_test_1))\n",
        "y_pred_SVC = model_SVC.predict(X_test_1)\n",
        "print(\"F1 score\",f1_score(Y_test_1, y_pred_SVC, average = 'macro'))"
      ],
      "metadata": {
        "colab": {
          "base_uri": "https://localhost:8080/"
        },
        "id": "4QRZp1nFbLAQ",
        "outputId": "2d034dbd-715d-462f-bd0d-219a57bd737d"
      },
      "execution_count": 27,
      "outputs": [
        {
          "output_type": "stream",
          "name": "stdout",
          "text": [
            "Model SVC\n",
            "Train score:  0.900562851782364\n",
            "Test score:  0.72\n",
            "F1 score 0.7162846738081505\n"
          ]
        }
      ]
    },
    {
      "cell_type": "code",
      "source": [
        "import matplotlib.pyplot as plt\n",
        "from sklearn.metrics import confusion_matrix\n",
        "\n",
        "def plot_confusion_matrix(cm, classes,\n",
        "                          normalize=False,\n",
        "                          title='Confusion matrix',\n",
        "                          cmap=plt.cm.Blues):\n",
        "    \"\"\"\n",
        "    This function prints and plots the confusion matrix.\n",
        "    Normalization can be applied by setting `normalize=True`.\n",
        "    \"\"\"\n",
        "    import itertools\n",
        "    if normalize:\n",
        "        cm = cm.astype('float') / cm.sum(axis=1)[:, np.newaxis]\n",
        "        print(\"Normalized confusion matrix\")\n",
        "    else:\n",
        "        print('Confusion matrix, without normalization')\n",
        "\n",
        "    print(cm)\n",
        "\n",
        "    plt.imshow(cm, interpolation='nearest', cmap=cmap)\n",
        "    plt.title(title)\n",
        "    plt.colorbar()\n",
        "    tick_marks = np.arange(len(classes))\n",
        "    plt.xticks(tick_marks, classes, rotation=45)\n",
        "    plt.yticks(tick_marks, classes)\n",
        "\n",
        "    fmt = '.2f' if normalize else 'd'\n",
        "    thresh = cm.max() / 2.\n",
        "    for i, j in itertools.product(range(cm.shape[0]), range(cm.shape[1])):\n",
        "        plt.text(j, i, format(cm[i, j], fmt),\n",
        "                 horizontalalignment=\"center\",\n",
        "                 color=\"white\" if cm[i, j] > thresh else \"black\")\n",
        "\n",
        "    plt.ylabel('True label')\n",
        "    plt.xlabel('Predicted label')\n",
        "    plt.tight_layout()\n",
        "  \n",
        "cnf_matrix_SVC = confusion_matrix(Y_test_1, y_pred_SVC, labels=[-1, 0, 1])\n",
        "np.set_printoptions(precision=2)\n",
        "\n",
        "# Plot non-normalized confusion matrix\n",
        "plt.figure()\n",
        "plot_confusion_matrix(cnf_matrix_SVC, classes=[-1, 0, 1],\n",
        "                      title='Confusion matrix, without normalization')"
      ],
      "metadata": {
        "colab": {
          "base_uri": "https://localhost:8080/",
          "height": 556
        },
        "id": "0JJ1kJ-9bLCe",
        "outputId": "2f369c0f-cdc7-46f3-ce42-d332a21d4d76"
      },
      "execution_count": 28,
      "outputs": [
        {
          "output_type": "stream",
          "name": "stdout",
          "text": [
            "Confusion matrix, without normalization\n",
            "[[ 91  17  17]\n",
            " [ 19  79  27]\n",
            " [ 12  20 118]]\n"
          ]
        },
        {
          "output_type": "display_data",
          "data": {
            "text/plain": [
              "<Figure size 640x480 with 2 Axes>"
            ],
            "image/png": "[encoded data removed]"
          },
          "metadata": {}
        }
      ]
    },
    {
      "cell_type": "code",
      "source": [
        "from sklearn.metrics import classification_report\n",
        "print(classification_report(Y_test_1, y_pred_SVC, target_names=['-1', '0', '1']))"
      ],
      "metadata": {
        "colab": {
          "base_uri": "https://localhost:8080/"
        },
        "id": "jynfh67AbLEa",
        "outputId": "92cb19ca-1e8c-42ca-aaa6-0bb195f06d5a"
      },
      "execution_count": 40,
      "outputs": [
        {
          "output_type": "stream",
          "name": "stdout",
          "text": [
            "              precision    recall  f1-score   support\n",
            "\n",
            "          -1       0.76      0.67      0.71       145\n",
            "           0       0.68      0.68      0.68       129\n",
            "           1       0.71      0.81      0.76       126\n",
            "\n",
            "    accuracy                           0.72       400\n",
            "   macro avg       0.72      0.72      0.72       400\n",
            "weighted avg       0.72      0.72      0.72       400\n",
            "\n"
          ]
        }
      ]
    },
    {
      "cell_type": "markdown",
      "source": [
        "# Với các model MultinomialNB, LogisticRegression"
      ],
      "metadata": {
        "id": "jinnkc-zjk1p"
      }
    },
    {
      "cell_type": "code",
      "source": [
        "from sklearn.naive_bayes import MultinomialNB\n",
        "from sklearn.linear_model import LogisticRegression"
      ],
      "metadata": {
        "id": "H2IlA2cGbLGo"
      },
      "execution_count": 41,
      "outputs": []
    },
    {
      "cell_type": "markdown",
      "source": [
        "# MultinomialNB"
      ],
      "metadata": {
        "id": "b_p3_aqjjsUl"
      }
    },
    {
      "cell_type": "code",
      "source": [
        "model_nb = MultinomialNB()\n",
        "model_nb.fit(X_train_1, Y_train_1)\n",
        "print(\"Model MultinomialNB\")\n",
        "print(\"Train score: \", model_nb.score(X_train_1, Y_train_1))\n",
        "print(\"Test score: \", model_nb.score(X_test_1, Y_test_1))\n",
        "y_pred_nb = model_nb.predict(X_test_1)\n",
        "print(\"F1 score\",f1_score(Y_test_1, y_pred_nb, average = 'macro'))"
      ],
      "metadata": {
        "colab": {
          "base_uri": "https://localhost:8080/"
        },
        "id": "_x2H_52ubLIo",
        "outputId": "515b0cb0-1904-4d98-ee3d-5dee41737071"
      },
      "execution_count": 42,
      "outputs": [
        {
          "output_type": "stream",
          "name": "stdout",
          "text": [
            "Model MultinomialNB\n",
            "Train score:  0.7986241400875547\n",
            "Test score:  0.655\n",
            "F1 score 0.6317801672640383\n"
          ]
        }
      ]
    },
    {
      "cell_type": "code",
      "source": [
        "cnf_matrix_NB = confusion_matrix(Y_test_1, y_pred_nb, labels=[-1, 0, 1])\n",
        "np.set_printoptions(precision=2)\n",
        "\n",
        "# Plot non-normalized confusion matrix\n",
        "plt.figure()\n",
        "plot_confusion_matrix(cnf_matrix_NB, classes=[-1, 0, 1],\n",
        "                      title='Confusion matrix, without normalization')"
      ],
      "metadata": {
        "colab": {
          "base_uri": "https://localhost:8080/",
          "height": 556
        },
        "id": "AswgUt3AbLLJ",
        "outputId": "6fac54e7-676d-4faa-d1aa-d56e7b48a863"
      },
      "execution_count": 43,
      "outputs": [
        {
          "output_type": "stream",
          "name": "stdout",
          "text": [
            "Confusion matrix, without normalization\n",
            "[[106   4  35]\n",
            " [ 48  44  37]\n",
            " [ 11   3 112]]\n"
          ]
        },
        {
          "output_type": "display_data",
          "data": {
            "text/plain": [
              "<Figure size 640x480 with 2 Axes>"
            ],
            "image/png": "[encoded data removed]"
          },
          "metadata": {}
        }
      ]
    },
    {
      "cell_type": "code",
      "source": [
        "print(classification_report(Y_test_1, y_pred_nb, target_names=['-1', '0', '1']))"
      ],
      "metadata": {
        "colab": {
          "base_uri": "https://localhost:8080/"
        },
        "id": "0vjBYHCXbLNg",
        "outputId": "0a47c115-53cf-417a-ad2e-cd642347f72e"
      },
      "execution_count": 44,
      "outputs": [
        {
          "output_type": "stream",
          "name": "stdout",
          "text": [
            "              precision    recall  f1-score   support\n",
            "\n",
            "          -1       0.64      0.73      0.68       145\n",
            "           0       0.86      0.34      0.49       129\n",
            "           1       0.61      0.89      0.72       126\n",
            "\n",
            "    accuracy                           0.66       400\n",
            "   macro avg       0.70      0.65      0.63       400\n",
            "weighted avg       0.70      0.66      0.63       400\n",
            "\n"
          ]
        }
      ]
    },
    {
      "cell_type": "markdown",
      "source": [
        "# Logistic Regression:"
      ],
      "metadata": {
        "id": "erYmG78aj2sm"
      }
    },
    {
      "cell_type": "code",
      "source": [
        "model_lr = LogisticRegression()\n",
        "model_lr.fit(X_train_1, Y_train_1)\n",
        "print(\"Model LogisticRegression\")\n",
        "print(\"Train score: \", model_lr.score(X_train_1, Y_train_1))\n",
        "print(\"Test score: \", model_lr.score(X_test_1, Y_test_1))\n",
        "y_pred_lr = model_lr.predict(X_test_1)\n",
        "print(\"F1 score\",f1_score(Y_test_1, y_pred_lr, average = 'macro'))"
      ],
      "metadata": {
        "colab": {
          "base_uri": "https://localhost:8080/"
        },
        "id": "YHzavHPqbLTf",
        "outputId": "f21998e9-49d8-4da7-b08d-7752affd65c5"
      },
      "execution_count": 45,
      "outputs": [
        {
          "output_type": "stream",
          "name": "stdout",
          "text": [
            "Model LogisticRegression\n",
            "Train score:  0.8911819887429644\n",
            "Test score:  0.7175\n",
            "F1 score 0.7170982905103602\n"
          ]
        }
      ]
    },
    {
      "cell_type": "code",
      "source": [
        "cnf_matrix_lr = confusion_matrix(Y_test_1, y_pred_lr, labels=[-1, 0, 1])\n",
        "np.set_printoptions(precision=2)\n",
        "\n",
        "# Plot non-normalized confusion matrix\n",
        "plt.figure()\n",
        "plot_confusion_matrix(cnf_matrix_lr, classes=[-1, 0, 1],\n",
        "title='Confusion matrix, without normalization')"
      ],
      "metadata": {
        "colab": {
          "base_uri": "https://localhost:8080/",
          "height": 556
        },
        "id": "omEC64kqfX9g",
        "outputId": "95aaeb78-760c-4efd-a061-b23295553930"
      },
      "execution_count": 46,
      "outputs": [
        {
          "output_type": "stream",
          "name": "stdout",
          "text": [
            "Confusion matrix, without normalization\n",
            "[[ 93  28  24]\n",
            " [ 18  91  20]\n",
            " [  6  17 103]]\n"
          ]
        },
        {
          "output_type": "display_data",
          "data": {
            "text/plain": [
              "<Figure size 640x480 with 2 Axes>"
            ],
            "image/png": "[encoded data removed]"
          },
          "metadata": {}
        }
      ]
    },
    {
      "cell_type": "code",
      "source": [
        "print(classification_report(Y_test_1, y_pred_lr, target_names=['-1', '0', '1']))"
      ],
      "metadata": {
        "colab": {
          "base_uri": "https://localhost:8080/"
        },
        "id": "GmWlwZ3pfYBU",
        "outputId": "ca8280a9-b091-4a41-d44e-bc5c03aec546"
      },
      "execution_count": 47,
      "outputs": [
        {
          "output_type": "stream",
          "name": "stdout",
          "text": [
            "              precision    recall  f1-score   support\n",
            "\n",
            "          -1       0.79      0.64      0.71       145\n",
            "           0       0.67      0.71      0.69       129\n",
            "           1       0.70      0.82      0.75       126\n",
            "\n",
            "    accuracy                           0.72       400\n",
            "   macro avg       0.72      0.72      0.72       400\n",
            "weighted avg       0.72      0.72      0.72       400\n",
            "\n"
          ]
        }
      ]
    },
    {
      "cell_type": "markdown",
      "source": [
        "# Lưu model đã train"
      ],
      "metadata": {
        "id": "aTk9LKwoj8Wf"
      }
    },
    {
      "cell_type": "code",
      "source": [
        "import pickle "
      ],
      "metadata": {
        "id": "qFcK1oToffaT"
      },
      "execution_count": 48,
      "outputs": []
    },
    {
      "cell_type": "code",
      "source": [
        "pickle.dump(model_SVC, open(\"/content/drive/MyDrive/project_ML/model_svc.pkl\", 'wb'))"
      ],
      "metadata": {
        "id": "YF1ZN51gffc9"
      },
      "execution_count": 49,
      "outputs": []
    },
    {
      "cell_type": "code",
      "source": [
        "pickle.dump(model_nb, open(\"/content/drive/MyDrive/project_ML/model_MultinomialNB.pkl\", 'wb'))"
      ],
      "metadata": {
        "id": "elrCLy4IfffN"
      },
      "execution_count": 50,
      "outputs": []
    },
    {
      "cell_type": "code",
      "source": [
        "pickle.dump(model_lr, open(\"/content/drive/MyDrive/project_ML/model_LogisticRegression.pkl\", 'wb'))"
      ],
      "metadata": {
        "id": "JsYvc3fgfYJe"
      },
      "execution_count": 51,
      "outputs": []
    },
    {
      "cell_type": "markdown",
      "source": [
        "# Dự đoán cho 1 câu mới được nhập vào\n",
        "\n",
        "\n",
        "> Để tiến hành dự đoán cho một câu feedback mới ta cần thực hiện các bước sau:\n",
        "\n",
        ">> Nhập câu cần dự đoán\n",
        "\n",
        ">> Tiến hành các bước tiền xử lý tương tự như trên.\n",
        "\n",
        ">> Load model của chúng ta.\n",
        "\n",
        ">> Tiến hành dự đoán và nhận kết quả\n",
        "\n",
        "\n",
        "\n",
        "\n",
        "\n",
        "\n",
        "\n",
        "\n",
        "\n",
        "\n",
        "\n"
      ],
      "metadata": {
        "id": "rGXVYO0QkA9Q"
      }
    },
    {
      "cell_type": "code",
      "source": [
        "def predict(text):\n",
        "  data = text\n",
        "  replace_list = {\n",
        "       ':v':'hihi', '<3':'yêu', '♥️':'yêu','❤':'yêu','a':'anh','ac':'anh chị','ace':'anh chị em','ad':'quản lý',\n",
        "       'ae':'anh em','ah':'à','ak':'à','amin':'quản lý','androir':'android','app':'ứng dụng','auto ':'tự động',\n",
        "       'ây':'vậy','b nào':'bạn nào','bằg':'bằng','băng':'bằng','băp':'bắp','băt':'bắt','battery':'pin','bể':'vỡ',\n",
        "       'been':'bên','best':'nhất','best':'tốt nhất','bgqafy ':'ngày','bh':'bao giờ','bh':'bây giờ','bhx':'bảo hành',\n",
        "       'bi':'bị','big':'lớn','bik':'biết','bin':'pin','bit':'biết','bít':'biết','bn':'bạn','bông tróc':'bong tróc', 'k': 'không', 'ok': 'được',\n",
        "       'bro':'anh em','bt':'bình thường','bt':'biết','bth':'bình thường','bthg':'bình thường','bua':'bữa','bùn':'buồn',\n",
        "       'buonc':'buồn','bx':'hộp','bye':'tạm biệt','c':'chị','cac':'các','cam':'máy ảnh','card':'thẻ','châu':'khỏe',\n",
        "       'chiệu':'triệu','chíp':'chip','chội':'trội','chs':'chơi','chửa':'chữa','chug ':'chung','chup':'chụp','chuq':'chung',\n",
        "       'clip':'đoạn phim','cmt':'bình luận','co':'có','cở':'cỡ','cọc':'cột','cpu':'chíp xử lý','cty':'công ty',\n",
        "       'cua':'của','cũg':'cũng','cug ':'cũng','cuh':'cũng','cùi':'tệ','củng':'cũng','cụt':'cục','cv':'công việc',\n",
        "       'cx':'cũng','đ':' đồng','dag':'đang','dăng':'văng','dấp':'lỗi','dất':'rất','đay':'đấy','đâỳ':'đầy','đc':'được',\n",
        "       'dè':'rè','dể':'dễ','delay':'trễ','dêm':'đêm','đén':'đến','deplay ':'chậm','deu':'đều','diem':'điểm','dien':'diện',\n",
        "       'đien':'điển','điễn':'điển','dienmayxanh':'điện máy xanh','dín':'dính','dis':'văng','diss':'văng','dk':'được',\n",
        "       'dmx':'điện máy xanh','dô':'vào','dõ':'rõ','dỡ':'dở','đỗi':'đổi','download':'tải','drop':'tụt','dt':'điện thoại',\n",
        "       'đt':'điện thoại','đth':'điện thoại','đthoai':'điện thoại','du':'dù','dùg':'dùng','dừg':'dừng','đứg':'đứng',\n",
        "       'dụg ':'dụng','dung':'dùng','đụng':'chạm','đươc':'được','đuọc ':'được','đưowjc':'được','dựt ':'giật','dx':'được'\n",
        "       ,'đx':'được','đy':'đi','e':'em','ế':'không bán được','êm':'tốt','f':'facebook','fabook':'facebook',\n",
        "       'face':'facebook','fast':'nhanh','fb':'facebook','fim':'phim','fix':'sửa','flash sale':'giảm giá','fm':'đài',\n",
        "       'for what':'vì sao','fps':'tốc độ khung hình','full':'đầy','future':'tương lai','game':'trò chơi','gem':'trò chơi',\n",
        "       'geme':'trò chơi','gia tiên':'giá tiền','giât':'giật','giốg ':'giống','giử':'dữ','giùm':'dùm','gmae':'trò chơi',\n",
        "       'gởi':'gửi','gold':'vàng','gơn':'hơn','good':'tốt','good jup':'tốt','gop':'góp','gửa':'gửi','gủng':'cái','h':'giờ',\n",
        "       'haiz':'thở dài','hẵn ':'hẳn','hành':'hành','hazzz':'haizz','hc':'học','hcm':'hồ chí minh','hd':'chất lượng cao',\n",
        "       'hdh':'hệ điều hành','hđh':'hệ điều hành','headphone':'tai nghe','hên':'may mắn','hẻo':'yếu','hẹo':'yếu','het':'hết',\n",
        "       'hét':'hết','hic':'khóc','hieu':'hiểu','high-tech':'công nghệ cao','hít':'sử dụng','hiu':'hiểu','hỉu':'hiểu',\n",
        "       'hk':'không','hn':'hà nội','hnay':'hôm nay','hoài':'nhiều lần','hoi':'hơi','hới':'hơi','hời':'tốt',\n",
        "       'hoi han':'hối hận','hok':'không','hong':'không','hông':'không','hot':'nổi bật','hqua':'hôm qua','hs':'học sinh',\n",
        "       'hssv':'học sinh sinh viên','hut':'hút','huway ':'huawei','huwei ':'huawei','í':'ý','I like it':'tôi thích nó',\n",
        "       'ik':'đi','ip':'iphone','j':'gì','k':'không','kàm':'làm','kb':'không biết','kg':'không','kh ':'khách hàng',\n",
        "       'khach':'khách hàng','khát phục':'khắc phục','khj':'khi','khoá ':'khóa','khóai ':'thích','khoẻ':'khỏe',\n",
        "       'khoẽ':'khỏe','khôg':'không','khoi đong':'khởi động','khong':'không','khoong ':'không','khuân':'khuôn',\n",
        "       'khủg':'khủng','kím':'kiếm','kipo':'tiêu cực','ko':'không','kt':'kiểm tra','ktra':'kiểm tra','la':'là',\n",
        "       'lác':'lỗi','lắc':'lỗi','lag':'lỗi','laii':'lại','lak':'giật','lan':'lần','lãng':'giật','lap':'máy tính',\n",
        "       'laptop':'máy tính','lay':'này','len toi':'lên tới','les':'led','lg':'lượng','lí':'lý','lien':'liên',\n",
        "       'like':'thích','liti':'nhỏ','live stream':'phát sóng trực tiếp','lm':'làm','ln':'luôn','loadd':'tải ',\n",
        "       'lôi':'lỗi','lổi':'lỗi','LOL ':'trò chơi','lởm':'kém chất lượng','lỏng lẽo':'lỏng lẻo','luc':'lúc','lun':'luôn',\n",
        "       'luong':'lượng','luot':'lướt','lưot ':'lượt','m':'mình','mạ':'trời','mắc công':'mất công','macseger':'messenger',\n",
        "       'mag':'màn','main':'chính','mak':'mà','man':'màn','màng':'màn','màng hình':'màn hình','mao ':'mau','mẩu':'mẫu',\n",
        "       'mầu ':'màu','max':'lớn nhất','may':'máy','mèn':'màn','méo gì':'làm gì','mih':'mình','mìk':'mình','min':'nhỏ nhât',\n",
        "       'mìn':'mình','mjh':'mình','mjk':'mình','mjnh':'minh','mk':'mình','mn':'mọi người','mng ':'mọi người','mo':'đâu',\n",
        "       'mò':'tìm','mobile':'điện thoại','mog':'mong','moi':'mới','mơi':'mới','ms':'mới','mún':'muốn','mước':'mức',\n",
        "       'mược':'mượt','muot':'mượt','mỷ':'mỹ','n':'nó','n':'nói chuyện','nãn':'nản','nayd':'này','nc':'nói chuyện',\n",
        "       'nch':'nói chuyện','nch':'nói chung','nếo ':'nếu','ng':'người','ngan':'ngang','nge':'nghe','nghiêm':'nghiệm',\n",
        "       'ngĩ':'nghĩ','ngốn':'sử dụng','nguon':'nguồn','nhah':'nhanh','nhan vien':'nhân viên','nhay':'nhạy','nhe':'nhé',\n",
        "       'nhèo':'nhòe','nhiet':'nhiệt','nhiểu':'nhiều','nhiu':'nhiều','nhìu':'nhiều','nhoè':'nhòe','như v':'như vậy',\n",
        "       'nhug':'nhưng','nhưg':'nhưng','nhữg':'những','nhung':'nhưng','nhuoc':'nhược','nhượt':'nhược','nock ao':'hạ gục',\n",
        "       'noi':'nói','nống':'nóng','not':'lưu ý','ns ':'nói','nsx':'ngày sản xuất','nt':'nhắn tin','ntin':'nhắn tin',\n",
        "       'ntn':'như thế nào','nũa':'nữa','nut ':'nút','nv':'nhân viên','nz':'như vậy','ô xi':'oxy','ofice':'văn phòng',\n",
        "       'ok':'được','ôk':'được','oke':'được','okee':'được','oki':'được','okie':'được','onl':'sử dụng',\n",
        "       'ộp ẹp':'không chắc chắn','option':'tùy chọn','or':'hoặc','out':'thoát','oỳ':'rồi','pải':'phải','phảm':'phẩm',\n",
        "       'phẩn':'phẩm','phan van':'phân vân','phèo':'vậy','phut ':'phút','pít':'biết','pro':'chất lượng cao','pùn':'buồn',\n",
        "       'pv':'giới thiệu','qá':'quá','qc':'quảng cáo','qtv':'quản trị viên','qua ve':'qua vẻ','quang trọng':'quan trọng',\n",
        "       'qus':'quá','r ':'rồi','rat':'rất','rát':'rất','rắt':'rất','rata':'rất','rễ':'dễ','rep':'trả lời',\n",
        "       'research':'nghiên cứu','reset':'cài đặt lại','restart':'khởi động lại','review':'đánh giá','rì':'gì',\n",
        "       'rinh':'mua','rỏ':'rõ','rùi':'rồi','rùng':'dùng','s':'sao','sac':'sạc','sài':'xài','sài':'dùng','sale':'giảm giá',\n",
        "       'sale off':'giảm giá','sâng':'sáng','sạt':'sạc','saving':'tiết kiệm','sd':'sử dụng','sdt':'số điện thoại',\n",
        "       'seal':'mới','search':'tìm kiếm','sefil':'chụp ảnh','selfie':'chụp ảnh','setting':'cài đặt','setup':'cài đặt',\n",
        "       'sexy':'quyến rũ','shiper':'nhân viên giao hàng','shop':'cửa hàng','skill':'kỹ năng','smooth':'mượt',\n",
        "       'so good':'rất tốt','sp':'sản phẩm','sphẩm':'sản phẩm','stars':'sao','sử':'xử','suất':'xuất','sưj':'sự',\n",
        "       'sước':'xước','super':'siêu','support':'hỗ trợ','sụt':'tụt','sv':'sinh viên','sx':'sản xuất','t':'tôi',\n",
        "       'T G D Đ':'thế giới di động','tằm ':'tầm','tes':'kiểm tra','test':'kiểm tra','tet':'tết','teung':'trung',\n",
        "       'tg':'thời gian','tgdd':'thế giới di động','tgdđ':'thế giới di động','thag':'tháng','thág':'tháng',\n",
        "       'thank':'cảm ơn','thank all':'cảm ơn tất cả','thanks':'cảm ơn','that ':'thật','thegioididong':'thế giới di động',\n",
        "       'thiệt':'thật','thjk':'thích','thoat':'thoát','thui':'thôi','thuong luu':'thượng lưu','thuyế':'thuyết',\n",
        "       'tieg':'tiếng','tiếg':'tiếng','tìh':'tình','tin nhắn':'thế này','tks':'cảm ơn','tl':'trả lời','tổg':'tổng',\n",
        "       'tối thui':'rất tối','tot':'tốt','tôt':'tốt','tp':'thành phố','tr':'triệu','trại':'trải','trán':'chán',\n",
        "       'trâu':'khỏe','trc':'trước','trc ':'trước','trể':'trễ','treo':'lỗi','trieu':'triệu','truoc':'trước',\n",
        "       'tt':'trung tâm','tui':'tôi','tươbg ':'tương','tưởg ':'tưởng','tuot':'tuột','tuột':'tụt','tuyêt':'tuyệt',\n",
        "       'tuyet ':'tuyệt','tv':'ti vi','ứg':'ứng','ưng':'thích','ung y':'ưng ý','ưngz':'ứng','up':'lên','update':'cập nhật',\n",
        "       'utra':'ultra','v':'vậy','va':'và','vẩn':'vẫn','vặng':'văng','vd':'ví dụ','vể':'vẻ','vêg':'về','very good':'rất tốt',\n",
        "       'vga':'chip đồ họa','vid':'video','vip':'xịn','vivu':'thoải mái','vk':'vợ','vl':'vãi','vn':'việt nam','vô':'vào',\n",
        "       'vọc vạch':'dùng thử','vọg':'vọng','vói':'vói','vong':'vọng','vs':'với','vuệc':'việc','vv':'vân vân','wa':'quá',\n",
        "       'wai':'suốt','wed':'website','wep':'website','wet':'website','wf':'wifi','wi-fi':'wifi','wjfj':'wifi','work':'word',\n",
        "       'xạc':'sạc','xaci':'xài','xài':'sử dụng','xí':'chút','xik':'xinh','xíu':'chút','xl':'xin lỗi','xog':'xong',\n",
        "       'xúc':'mua','xướt':'xước','yen tam':'yên tâm','yerhh':'yeah','ytb':'youtube','z':'vậy','zay':'vậy','zị':'vậy',\n",
        "       'zo':'vào','zoom':'phóng','🎮':'trò chơi','🐃':'trâu','👉':'suy ra','👌':'được','👍':'thích','👍🏼':'thích',\n",
        "       '👎':'không thích','💯':'100','🔊':'loa','🔋':'pin','😀':'cười','😁':'cười','😂':'khóc','😂':'cười',\n",
        "       '😆':'cười','😉':'hài lòng','😊':'vui','😋':'lè lưỡi','😌':'suy ngẫm','😍':'yêu','😎':'ngầu','😑':'suy ngẫm',\n",
        "       '😔':'buồn','😝':'lè lưỡi','😡':'giận','😣':'buồn','😪':'buồn ngủ','😭':'khóc','🙂':'ổn','🙃':'không hiểu',\n",
        "       '🤔':'thắc mắc','🤗':'vui vẻ','🤗':'đáng yêu','🤣':'cười','🤮':'buồn nôn','🥰':'yêu','thao': 'sao',\n",
        "       'dùm': 'giúp','review': 'nhận xét','buonc': 'buồn','Bờ Lút': '+','vđ': 'vấn đề','củ': 'triệu','bjo': 'bây giờ', \n",
        "       'gè': 'rè','cam': 'máy ảnh','fom': 'kiểu','ẻm': 'em','chời': 'trời','no': 'không','km': 'khuyến mãi',\n",
        "       'ship': 'vận chuyển','cute': 'dễ thương','rich':' giàu','kid': 'trẻ em','gen': 'thế hệ'\n",
        "    }\n",
        "\n",
        "  T = []\n",
        "  for i in data:\n",
        "    i = str(i)\n",
        "  data = text_lowercase(data)\n",
        "  data = Util(data)\n",
        "  data = remove_similarletter(data)\n",
        "  data = remove_number(data)\n",
        "  data = remove_punctuation(data)\n",
        "  data = remove_whitespace(data)\n",
        "  data = remove_VN_stopwords(data)\n",
        "  data = data.strip()\n",
        "\n",
        "  T = vectorizer_1.transform([data]).toarray()\n",
        "  with open('/content/drive/MyDrive/project_ML/model_LogisticRegression.pkl', 'rb') as f:\n",
        "    model = pickle.load(f)\n",
        "  prediction = model.predict(T)\n",
        "  return prediction[0]"
      ],
      "metadata": {
        "id": "yDz9i3tuaqUF"
      },
      "execution_count": 52,
      "outputs": []
    },
    {
      "cell_type": "code",
      "source": [],
      "metadata": {
        "id": "Av7TzOof9_Ki"
      },
      "execution_count": null,
      "outputs": []
    },
    {
      "cell_type": "markdown",
      "source": [
        "Tiến hành hiển thị kế quả"
      ],
      "metadata": {
        "id": "WKsDGNzN9_qM"
      }
    },
    {
      "cell_type": "code",
      "source": [
        "text = input(\"Input a text to predict: \")\n",
        "if (predict(text)==1):\n",
        "  print(\"Tích cực\")\n",
        "elif (predict(text)==0):\n",
        "  print(\"Trung tính\")\n",
        "else:  \n",
        "  print(\"Tiêu cực\")"
      ],
      "metadata": {
        "colab": {
          "base_uri": "https://localhost:8080/"
        },
        "id": "wEEPVzC_gjQ9",
        "outputId": "914ca52a-be25-4e5d-ff88-0739c6da8148"
      },
      "execution_count": 53,
      "outputs": [
        {
          "output_type": "stream",
          "name": "stdout",
          "text": [
            "Input a text to predict: hàng giao quá chậm, book từ thag 5 mà tới thág 10 mới nhận được\n",
            "Trung tính\n"
          ]
        }
      ]
    },
    {
      "cell_type": "code",
      "source": [
        "text = input(\"Input a text to predict: \")\n",
        "if (predict(text)==1):\n",
        "  print(\"Tích cực\")\n",
        "elif (predict(text)==0):\n",
        "  print(\"Trung tính\")\n",
        "else:  \n",
        "  print(\"Tiêu cực\")"
      ],
      "metadata": {
        "id": "hUlRSqL-n_u8",
        "colab": {
          "base_uri": "https://localhost:8080/"
        },
        "outputId": "4d7e526b-6856-4dfb-a2a1-7a3295e02cd5"
      },
      "execution_count": 54,
      "outputs": [
        {
          "output_type": "stream",
          "name": "stdout",
          "text": [
            "Input a text to predict: hàng tốt, dùng ngon\n",
            "Tích cực\n"
          ]
        }
      ]
    },
    {
      "cell_type": "code",
      "source": [
        "text = input(\"Input a text to predict: \")\n",
        "if (predict(text)==1):\n",
        "  print(\"Tích cực\")\n",
        "elif (predict(text)==0):\n",
        "  print(\"Trung tính\")\n",
        "else:  \n",
        "  print(\"Tiêu cực\")"
      ],
      "metadata": {
        "id": "-3ltaIGDgjVl",
        "colab": {
          "base_uri": "https://localhost:8080/"
        },
        "outputId": "699b00f0-9594-4717-8cbc-de73c897c55c"
      },
      "execution_count": 55,
      "outputs": [
        {
          "output_type": "stream",
          "name": "stdout",
          "text": [
            "Input a text to predict: hàng như cc, giá đắt lại còn cùi bắp\n",
            "Trung tính\n"
          ]
        }
      ]
    },
    {
      "cell_type": "code",
      "source": [
        "text = input(\"Input a text to predict: \")\n",
        "if (predict(text)==1):\n",
        "  print(\"Tích cực\")\n",
        "elif (predict(text)==0):\n",
        "  print(\"Trung tính\")\n",
        "else:  \n",
        "  print(\"Tiêu cực\")"
      ],
      "metadata": {
        "id": "1lJQBNargjZg",
        "colab": {
          "base_uri": "https://localhost:8080/"
        },
        "outputId": "5a270725-59bc-4d28-ee05-482031b317dd"
      },
      "execution_count": 56,
      "outputs": [
        {
          "output_type": "stream",
          "name": "stdout",
          "text": [
            "Input a text to predict: máy giật lag quá, kém\n",
            "Tiêu cực\n"
          ]
        }
      ]
    }
  ]
}